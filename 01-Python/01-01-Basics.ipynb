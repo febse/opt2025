{
 "cells": [
  {
   "cell_type": "markdown",
   "id": "99363d32ecbb9d73",
   "metadata": {
    "collapsed": false
   },
   "source": [
    "# Jupyter Notebooks in VS Code\n",
    "\n",
    "Häufig verwendete Tastenkombinationen\n",
    "\n",
    "- Enter: Bearbeitungsmodus einschalten\n",
    "- Esc: Kommando-Modus einschalten\n",
    "\n",
    "Shortcuts für den Kommando-Modus (Edit Mode)\n",
    "\n",
    "- A : Eine Zelle oberhalb der aktuellen Zelle einfügen\n",
    "- B : Eine Zelle unterhalb der aktuellen Zelle einfügen\n",
    "- Alt + ↑: Zelle nach oben verschieben\n",
    "- Alt + ↓: Zelle nach unten verschieben\n",
    "- Alt + Shift + ↑: Zelle nach oben kopieren (Fokus bleibt auf der aktuellen Zelle)\n",
    "- Alt + Shift + ↓: Copy cell downwards (der Fokus wechselt zur nächsten Zelle)\n",
    "- dd : Zelle löschen\n",
    "- z : Die letzte Änderung rückgängig machen\n",
    "- M : Die Zelle in eine Markdown-Zelle umwandeln\n",
    "- Y : Die Zelle in eine Code-Zelle umwandeln\n",
    "\n",
    "Shortcuts für Edit Mode\n",
    "- Alt + Shift + ↑:  Die aktuelle Zeile nach oben kopieren (Fokus bleibt auf der aktuellen Zeile)\n",
    "- Alt + Shift + ↓: Die aktuelle Zeile nach unten kopieren (Fokus verlagert sich zur nächsten Zeile)\n",
    "- Ctrl+Enter/Shift+Enter: Markierte Zelle ausführen und Fokus auf die nächste Zelle setzen\n",
    "\n",
    "Shortcuts für beide Modi\n",
    "\n",
    "- Ctrl+Enter : Die aktuelle Zelle ausführen (Fokus bleibt auf der aktuellen Zelle)\n",
    "- Shift+Enter : Die aktuelle Zelle ausführen und Fokus auf die nächste Zelle setzen\n",
    "- Alt+Enter : Die aktuelle Zelle ausführen und eine neue Zelle einfügen"
   ]
  },
  {
   "cell_type": "markdown",
   "id": "a6cfe350",
   "metadata": {},
   "source": [
    "\n",
    "## Arithmetische Operationen\n",
    "\n",
    "[https://www.jetbrains.com/help/pycharm/running-jupyter-notebook-cells.html](https://www.jetbrains.com/help/pycharm/running-jupyter-notebook-cells.html)\n",
    "[https://www.jetbrains.com/help/pycharm/editing-jupyter-notebook-files.html#edit-notebook](https://www.jetbrains.com/help/pycharm/editing-jupyter-notebook-files.html#edit-notebook)\n",
    "\n",
    "Die wichtingsten Shortcuts sind:\n",
    "\n",
    "- `Shift + Enter` - Führt die aktuelle Zelle aus und springt zur nächsten Zelle.\n",
    "- `Ctrl + Enter` - Führt die aktuelle Zelle aus und bleibt in der Zelle.\n",
    "\n",
    "In Edit Mode können wir mit\n",
    "- `Alt` + `Shift` + `B`: eine neue Zeile unterhalb der aktuellen Zelle einfügen\n",
    "- `Alt` + `Shift` + `A`: eine neue Zeile oberhalb der aktuellen Zelle einfügen \n",
    "\n",
    "In diesem Notebook stellen wir die verschiedenen Datentypen für Zahlen vor.\n"
   ]
  },
  {
   "cell_type": "code",
   "execution_count": 3,
   "id": "initial_id",
   "metadata": {
    "ExecuteTime": {
     "end_time": "2024-01-22T16:31:02.270609379Z",
     "start_time": "2024-01-22T16:31:02.028245110Z"
    },
    "collapsed": true
   },
   "outputs": [
    {
     "data": {
      "text/plain": [
       "2"
      ]
     },
     "execution_count": 3,
     "metadata": {},
     "output_type": "execute_result"
    }
   ],
   "source": [
    "1 + 1"
   ]
  },
  {
   "cell_type": "code",
   "execution_count": 4,
   "id": "5ba4e1a8",
   "metadata": {},
   "outputs": [],
   "source": [
    "x = 23"
   ]
  },
  {
   "cell_type": "code",
   "execution_count": 5,
   "id": "34fb6e87",
   "metadata": {},
   "outputs": [],
   "source": [
    "z = 222"
   ]
  },
  {
   "cell_type": "code",
   "execution_count": 6,
   "id": "4e1a32db",
   "metadata": {},
   "outputs": [],
   "source": [
    "xdr = 23"
   ]
  },
  {
   "cell_type": "code",
   "execution_count": 26,
   "id": "2702b9caad95811e",
   "metadata": {
    "ExecuteTime": {
     "end_time": "2024-01-22T16:31:02.282583332Z",
     "start_time": "2024-01-22T16:31:02.266615902Z"
    },
    "collapsed": false
   },
   "outputs": [
    {
     "data": {
      "text/plain": [
       "int"
      ]
     },
     "execution_count": 26,
     "metadata": {},
     "output_type": "execute_result"
    }
   ],
   "source": [
    "type(1)"
   ]
  },
  {
   "cell_type": "code",
   "execution_count": 27,
   "id": "56600d0ec706f9ab",
   "metadata": {
    "ExecuteTime": {
     "end_time": "2024-01-22T16:31:02.338672321Z",
     "start_time": "2024-01-22T16:31:02.285376625Z"
    },
    "collapsed": false
   },
   "outputs": [
    {
     "data": {
      "text/plain": [
       "float"
      ]
     },
     "execution_count": 27,
     "metadata": {},
     "output_type": "execute_result"
    }
   ],
   "source": [
    "type(1.0)"
   ]
  },
  {
   "cell_type": "code",
   "execution_count": 28,
   "id": "4164a3ca6f213dfd",
   "metadata": {
    "ExecuteTime": {
     "end_time": "2024-01-22T16:31:02.366991379Z",
     "start_time": "2024-01-22T16:31:02.339019748Z"
    },
    "collapsed": false
   },
   "outputs": [
    {
     "data": {
      "text/plain": [
       "float"
      ]
     },
     "execution_count": 28,
     "metadata": {},
     "output_type": "execute_result"
    }
   ],
   "source": [
    "1 + 2.0\n",
    "type(1 + 2.0)"
   ]
  },
  {
   "cell_type": "code",
   "execution_count": 29,
   "id": "d04b6d2e3ece3708",
   "metadata": {
    "ExecuteTime": {
     "end_time": "2024-01-22T16:31:02.380949774Z",
     "start_time": "2024-01-22T16:31:02.356553320Z"
    },
    "collapsed": false
   },
   "outputs": [
    {
     "data": {
      "text/plain": [
       "0.5"
      ]
     },
     "execution_count": 29,
     "metadata": {},
     "output_type": "execute_result"
    }
   ],
   "source": [
    "1 / 2"
   ]
  },
  {
   "cell_type": "code",
   "execution_count": 30,
   "id": "fe855d03391dd94",
   "metadata": {
    "ExecuteTime": {
     "end_time": "2024-01-22T16:31:02.426499917Z",
     "start_time": "2024-01-22T16:31:02.379252047Z"
    },
    "collapsed": false
   },
   "outputs": [
    {
     "data": {
      "text/plain": [
       "8"
      ]
     },
     "execution_count": 30,
     "metadata": {},
     "output_type": "execute_result"
    }
   ],
   "source": [
    "2 ** 3"
   ]
  },
  {
   "cell_type": "code",
   "execution_count": 31,
   "id": "8c3ad557fec00261",
   "metadata": {
    "ExecuteTime": {
     "end_time": "2024-01-22T16:31:02.446783024Z",
     "start_time": "2024-01-22T16:31:02.421259492Z"
    },
    "collapsed": false
   },
   "outputs": [
    {
     "data": {
      "text/plain": [
       "783.1098528099996"
      ]
     },
     "execution_count": 31,
     "metadata": {},
     "output_type": "execute_result"
    }
   ],
   "source": [
    "2.3 ** 8"
   ]
  },
  {
   "cell_type": "code",
   "execution_count": 32,
   "id": "40deac0950f2e25",
   "metadata": {
    "ExecuteTime": {
     "end_time": "2024-01-22T16:31:02.566721747Z",
     "start_time": "2024-01-22T16:31:02.428739906Z"
    },
    "collapsed": false
   },
   "outputs": [
    {
     "data": {
      "text/plain": [
       "3.0"
      ]
     },
     "execution_count": 32,
     "metadata": {},
     "output_type": "execute_result"
    }
   ],
   "source": [
    "3.2 - 0.2"
   ]
  },
  {
   "cell_type": "markdown",
   "id": "9c4aa5391ef37cf",
   "metadata": {
    "collapsed": false
   },
   "source": [
    "# Zuweisung (Assignment)\n",
    "\n",
    "Wir können Werte Variablen zuweisen.\n"
   ]
  },
  {
   "cell_type": "code",
   "execution_count": 33,
   "id": "666d2d5517ee9e58",
   "metadata": {
    "ExecuteTime": {
     "end_time": "2024-01-22T16:31:02.570664044Z",
     "start_time": "2024-01-22T16:31:02.504913168Z"
    },
    "collapsed": false
   },
   "outputs": [],
   "source": [
    "x = 1\n",
    "y = 5"
   ]
  },
  {
   "cell_type": "code",
   "execution_count": 34,
   "id": "ce4c5851e059bda5",
   "metadata": {
    "ExecuteTime": {
     "end_time": "2024-01-22T16:31:02.645476557Z",
     "start_time": "2024-01-22T16:31:02.576462308Z"
    },
    "collapsed": false
   },
   "outputs": [
    {
     "data": {
      "text/plain": [
       "6"
      ]
     },
     "execution_count": 34,
     "metadata": {},
     "output_type": "execute_result"
    }
   ],
   "source": [
    "x + y"
   ]
  },
  {
   "cell_type": "code",
   "execution_count": 35,
   "id": "f15a300c352a0fbf",
   "metadata": {
    "ExecuteTime": {
     "end_time": "2024-01-22T16:31:02.661959631Z",
     "start_time": "2024-01-22T16:31:02.635191379Z"
    },
    "collapsed": false
   },
   "outputs": [
    {
     "data": {
      "text/plain": [
       "True"
      ]
     },
     "execution_count": 35,
     "metadata": {},
     "output_type": "execute_result"
    }
   ],
   "source": [
    "type(x) == int"
   ]
  },
  {
   "cell_type": "markdown",
   "id": "c7a3b0913ca550d2",
   "metadata": {
    "collapsed": false
   },
   "source": [
    "# Zeichenketten (Strings)\n",
    "\n",
    "Außer Zahlen können wir auch Zeichenketten (Strings) verwenden.\n"
   ]
  },
  {
   "cell_type": "code",
   "execution_count": 36,
   "id": "6cd58ca7e0a74bb4",
   "metadata": {
    "ExecuteTime": {
     "end_time": "2024-01-22T16:31:02.755358814Z",
     "start_time": "2024-01-22T16:31:02.664507846Z"
    },
    "collapsed": false
   },
   "outputs": [
    {
     "data": {
      "text/plain": [
       "'Hallo, Welt!'"
      ]
     },
     "execution_count": 36,
     "metadata": {},
     "output_type": "execute_result"
    }
   ],
   "source": [
    "z = \"Hallo, Welt!\"\n",
    "z"
   ]
  },
  {
   "cell_type": "code",
   "execution_count": 37,
   "id": "92f7ad6469f20598",
   "metadata": {
    "ExecuteTime": {
     "end_time": "2024-01-22T16:31:02.873654077Z",
     "start_time": "2024-01-22T16:31:02.742064615Z"
    },
    "collapsed": false
   },
   "outputs": [
    {
     "name": "stdout",
     "output_type": "stream",
     "text": [
      "Hallo, Welt!\n"
     ]
    }
   ],
   "source": [
    "print(z)"
   ]
  },
  {
   "cell_type": "markdown",
   "id": "1f688afb941d6149",
   "metadata": {
    "collapsed": false
   },
   "source": [
    "Zeichenketten können wir mit `+` verketten."
   ]
  },
  {
   "cell_type": "code",
   "execution_count": 38,
   "id": "b9f706392b1dcd6f",
   "metadata": {
    "ExecuteTime": {
     "end_time": "2024-01-22T16:31:02.895724046Z",
     "start_time": "2024-01-22T16:31:02.808813266Z"
    },
    "collapsed": false
   },
   "outputs": [
    {
     "name": "stdout",
     "output_type": "stream",
     "text": [
      "Hallo, Welt! Ich bin da!\n"
     ]
    }
   ],
   "source": [
    "z1 = z + \" Ich bin da!\"\n",
    "print(z1)"
   ]
  },
  {
   "cell_type": "markdown",
   "id": "ec3f7a6ee4c4eb02",
   "metadata": {
    "collapsed": false
   },
   "source": [
    "Zeichenketten können wir mit `*` \"vervielfachen\"."
   ]
  },
  {
   "cell_type": "code",
   "execution_count": 39,
   "id": "84c86f0ce9557a43",
   "metadata": {
    "ExecuteTime": {
     "end_time": "2024-01-22T16:31:03.015022743Z",
     "start_time": "2024-01-22T16:31:02.878081228Z"
    },
    "collapsed": false
   },
   "outputs": [
    {
     "name": "stdout",
     "output_type": "stream",
     "text": [
      "Hallo, Welt!Hallo, Welt!Hallo, Welt!\n"
     ]
    }
   ],
   "source": [
    "print(z * 3)"
   ]
  },
  {
   "cell_type": "markdown",
   "id": "17d2a180ea23a3e1",
   "metadata": {
    "collapsed": false
   },
   "source": [
    "Zeichenketten können wir mit `len` die Länge (Anzahl der Zeichen) bestimmen.\n"
   ]
  },
  {
   "cell_type": "code",
   "execution_count": 40,
   "id": "cabb6b6d2808dfde",
   "metadata": {
    "ExecuteTime": {
     "end_time": "2024-01-22T16:31:03.143610577Z",
     "start_time": "2024-01-22T16:31:02.999137371Z"
    },
    "collapsed": false
   },
   "outputs": [
    {
     "data": {
      "text/plain": [
       "12"
      ]
     },
     "execution_count": 40,
     "metadata": {},
     "output_type": "execute_result"
    }
   ],
   "source": [
    "len(z)"
   ]
  },
  {
   "cell_type": "markdown",
   "id": "9b741e9389fd8340",
   "metadata": {
    "collapsed": false
   },
   "source": [
    "Zeichenketten können wir mit `split` in eine Liste von Wörtern aufteilen."
   ]
  },
  {
   "cell_type": "code",
   "execution_count": 41,
   "id": "938369c7f8cbff2f",
   "metadata": {
    "ExecuteTime": {
     "end_time": "2024-01-22T16:31:03.185399836Z",
     "start_time": "2024-01-22T16:31:03.088518266Z"
    },
    "collapsed": false
   },
   "outputs": [
    {
     "data": {
      "text/plain": [
       "['Hallo', ' Welt!']"
      ]
     },
     "execution_count": 41,
     "metadata": {},
     "output_type": "execute_result"
    }
   ],
   "source": [
    "z.split(\",\")"
   ]
  },
  {
   "cell_type": "markdown",
   "id": "b5a1575a8aa090fe",
   "metadata": {
    "collapsed": false
   },
   "source": []
  },
  {
   "cell_type": "code",
   "execution_count": 42,
   "id": "e8cc265016515c26",
   "metadata": {
    "ExecuteTime": {
     "end_time": "2024-01-22T16:31:03.283995112Z",
     "start_time": "2024-01-22T16:31:03.169388583Z"
    },
    "collapsed": false
   },
   "outputs": [
    {
     "data": {
      "text/plain": [
       "['Hallo,', 'Welt!']"
      ]
     },
     "execution_count": 42,
     "metadata": {},
     "output_type": "execute_result"
    }
   ],
   "source": [
    "z.split(\" \")"
   ]
  },
  {
   "cell_type": "markdown",
   "id": "8038c6b7bb4ba32d",
   "metadata": {
    "collapsed": false
   },
   "source": [
    "Wir können Teile einer Zeichenkette mit eckigen Klammern auswählen. Dabei beginnt der Index bei 0."
   ]
  },
  {
   "cell_type": "code",
   "execution_count": 43,
   "id": "b93a7977ec837813",
   "metadata": {
    "ExecuteTime": {
     "end_time": "2024-01-22T16:31:03.399957585Z",
     "start_time": "2024-01-22T16:31:03.253204227Z"
    },
    "collapsed": false
   },
   "outputs": [
    {
     "data": {
      "text/plain": [
       "'H'"
      ]
     },
     "execution_count": 43,
     "metadata": {},
     "output_type": "execute_result"
    }
   ],
   "source": [
    "z[0]"
   ]
  },
  {
   "cell_type": "code",
   "execution_count": 44,
   "id": "30510b1d032a2dff",
   "metadata": {
    "ExecuteTime": {
     "end_time": "2024-01-22T16:31:03.410991098Z",
     "start_time": "2024-01-22T16:31:03.332802788Z"
    },
    "collapsed": false
   },
   "outputs": [
    {
     "data": {
      "text/plain": [
       "'a'"
      ]
     },
     "execution_count": 44,
     "metadata": {},
     "output_type": "execute_result"
    }
   ],
   "source": [
    "z[1]"
   ]
  },
  {
   "cell_type": "code",
   "execution_count": 45,
   "id": "caa1e0bc6893b5e2",
   "metadata": {
    "ExecuteTime": {
     "end_time": "2024-01-22T16:31:03.450296666Z",
     "start_time": "2024-01-22T16:31:03.390207274Z"
    },
    "collapsed": false
   },
   "outputs": [
    {
     "data": {
      "text/plain": [
       "'Hallo'"
      ]
     },
     "execution_count": 45,
     "metadata": {},
     "output_type": "execute_result"
    }
   ],
   "source": [
    "z[0:5]"
   ]
  },
  {
   "cell_type": "code",
   "execution_count": 46,
   "id": "5b9d00e799baae6f",
   "metadata": {
    "ExecuteTime": {
     "end_time": "2024-01-22T16:31:03.476625682Z",
     "start_time": "2024-01-22T16:31:03.441709203Z"
    },
    "collapsed": false
   },
   "outputs": [
    {
     "name": "stdout",
     "output_type": "stream",
     "text": [
      "H\n",
      "a\n",
      "l\n",
      "l\n",
      "o\n",
      ",\n",
      " \n",
      "W\n",
      "e\n",
      "l\n",
      "t\n",
      "!\n"
     ]
    }
   ],
   "source": [
    "for c in z:\n",
    "    print(c)"
   ]
  },
  {
   "cell_type": "markdown",
   "id": "5cc05778ebf281f2",
   "metadata": {
    "collapsed": false
   },
   "source": [
    "# Logische Werte (Booleans)\n",
    "\n",
    "In Python gibt es auch logische Werte (Booleans). Diese können nur zwei Werte annehmen: `True` und `False`.\n",
    "In den meisten Fällen werden wir diese Werte verwenden, um Bedingungen zu formulieren."
   ]
  },
  {
   "cell_type": "code",
   "execution_count": 47,
   "id": "c3c2a7e51335f247",
   "metadata": {
    "ExecuteTime": {
     "end_time": "2024-01-22T16:31:03.534543513Z",
     "start_time": "2024-01-22T16:31:03.473201752Z"
    },
    "collapsed": false
   },
   "outputs": [
    {
     "data": {
      "text/plain": [
       "False"
      ]
     },
     "execution_count": 47,
     "metadata": {},
     "output_type": "execute_result"
    }
   ],
   "source": [
    "1 > 2"
   ]
  },
  {
   "cell_type": "code",
   "execution_count": 48,
   "id": "c5c8ce126d48a102",
   "metadata": {
    "ExecuteTime": {
     "end_time": "2024-01-22T16:31:03.622791146Z",
     "start_time": "2024-01-22T16:31:03.534699600Z"
    },
    "collapsed": false
   },
   "outputs": [
    {
     "data": {
      "text/plain": [
       "True"
      ]
     },
     "execution_count": 48,
     "metadata": {},
     "output_type": "execute_result"
    }
   ],
   "source": [
    "1 < 3"
   ]
  },
  {
   "cell_type": "code",
   "execution_count": 49,
   "id": "ec3fe58c2a850bae",
   "metadata": {
    "ExecuteTime": {
     "end_time": "2024-01-22T16:31:03.632399619Z",
     "start_time": "2024-01-22T16:31:03.577060719Z"
    },
    "collapsed": false
   },
   "outputs": [
    {
     "data": {
      "text/plain": [
       "True"
      ]
     },
     "execution_count": 49,
     "metadata": {},
     "output_type": "execute_result"
    }
   ],
   "source": [
    "2 == 2"
   ]
  },
  {
   "cell_type": "code",
   "execution_count": 50,
   "id": "541ba5aa4c64c14d",
   "metadata": {
    "ExecuteTime": {
     "end_time": "2024-01-22T16:31:03.698442527Z",
     "start_time": "2024-01-22T16:31:03.602398089Z"
    },
    "collapsed": false
   },
   "outputs": [
    {
     "data": {
      "text/plain": [
       "True"
      ]
     },
     "execution_count": 50,
     "metadata": {},
     "output_type": "execute_result"
    }
   ],
   "source": [
    "\"hallo\" == \"hallo\""
   ]
  },
  {
   "cell_type": "code",
   "execution_count": 51,
   "id": "881a18fedfd3f5b2",
   "metadata": {
    "ExecuteTime": {
     "end_time": "2024-01-22T16:31:03.701591073Z",
     "start_time": "2024-01-22T16:31:03.680729255Z"
    },
    "collapsed": false
   },
   "outputs": [
    {
     "data": {
      "text/plain": [
       "False"
      ]
     },
     "execution_count": 51,
     "metadata": {},
     "output_type": "execute_result"
    }
   ],
   "source": [
    "\"hallo\" == \"Hallo\""
   ]
  },
  {
   "cell_type": "markdown",
   "id": "c209b07aa5a6762f",
   "metadata": {
    "collapsed": false
   },
   "source": [
    "# Listen und Tupel\n",
    "\n",
    "In vielen Fällen werden wir nicht nur einzelne Werte, sondern mehrere Werte zusammen verwenden wollen.\n",
    "Als Beispiel nehmen wir eine Liste von 12 montalichen Stromverbräuchen (in EUR)."
   ]
  },
  {
   "cell_type": "code",
   "execution_count": 52,
   "id": "6131f01a2b0d24d",
   "metadata": {
    "ExecuteTime": {
     "end_time": "2024-01-22T16:31:03.809741785Z",
     "start_time": "2024-01-22T16:31:03.702244473Z"
    },
    "collapsed": false
   },
   "outputs": [],
   "source": [
    "stromverbrauch = [100, 120, 80, 90, 110, 100, 120, 80, 90.12, 110, 100, 120.22]"
   ]
  },
  {
   "cell_type": "markdown",
   "id": "3713091c4f160801",
   "metadata": {
    "collapsed": false
   },
   "source": [
    "Wir können auf einzelne Elemente einer Liste zugreifen, indem wir den Index des Elements in eckigen Klammern hinter den Namen der Liste schreiben. Wie in den meisten Programmiersprachen **beginnt der Index bei 0**."
   ]
  },
  {
   "cell_type": "code",
   "execution_count": 53,
   "id": "327571c20d752f4c",
   "metadata": {
    "ExecuteTime": {
     "end_time": "2024-01-22T16:31:03.813722077Z",
     "start_time": "2024-01-22T16:31:03.760925837Z"
    },
    "collapsed": false
   },
   "outputs": [
    {
     "data": {
      "text/plain": [
       "100"
      ]
     },
     "execution_count": 53,
     "metadata": {},
     "output_type": "execute_result"
    }
   ],
   "source": [
    "stromverbrauch[0]"
   ]
  },
  {
   "cell_type": "code",
   "execution_count": 54,
   "id": "e24b28762e68d859",
   "metadata": {
    "ExecuteTime": {
     "end_time": "2024-01-22T16:31:03.876808489Z",
     "start_time": "2024-01-22T16:31:03.814266594Z"
    },
    "collapsed": false
   },
   "outputs": [
    {
     "data": {
      "text/plain": [
       "120"
      ]
     },
     "execution_count": 54,
     "metadata": {},
     "output_type": "execute_result"
    }
   ],
   "source": [
    "stromverbrauch[1]"
   ]
  },
  {
   "cell_type": "code",
   "execution_count": 55,
   "id": "56671640e98e9a4f",
   "metadata": {
    "ExecuteTime": {
     "end_time": "2024-01-22T16:31:03.934133942Z",
     "start_time": "2024-01-22T16:31:03.862344365Z"
    },
    "collapsed": false
   },
   "outputs": [
    {
     "data": {
      "text/plain": [
       "120.22"
      ]
     },
     "execution_count": 55,
     "metadata": {},
     "output_type": "execute_result"
    }
   ],
   "source": [
    "stromverbrauch[11]"
   ]
  },
  {
   "cell_type": "markdown",
   "id": "4fcee86ed5b37444",
   "metadata": {
    "collapsed": false
   },
   "source": [
    "Versuchen wir auf ein Element zuzugreifen, das nicht existiert, erhalten wir einen Fehler."
   ]
  },
  {
   "cell_type": "code",
   "execution_count": 56,
   "id": "74a3a6a784dca9b2",
   "metadata": {
    "ExecuteTime": {
     "end_time": "2024-01-22T16:31:03.954182005Z",
     "start_time": "2024-01-22T16:31:03.933682098Z"
    },
    "collapsed": false
   },
   "outputs": [
    {
     "ename": "IndexError",
     "evalue": "list index out of range",
     "output_type": "error",
     "traceback": [
      "\u001b[0;31m---------------------------------------------------------------------------\u001b[0m",
      "\u001b[0;31mIndexError\u001b[0m                                Traceback (most recent call last)",
      "Cell \u001b[0;32mIn[56], line 1\u001b[0m\n\u001b[0;32m----> 1\u001b[0m \u001b[43mstromverbrauch\u001b[49m\u001b[43m[\u001b[49m\u001b[38;5;241;43m12\u001b[39;49m\u001b[43m]\u001b[49m\n",
      "\u001b[0;31mIndexError\u001b[0m: list index out of range"
     ]
    }
   ],
   "source": [
    "stromverbrauch[12]"
   ]
  },
  {
   "cell_type": "markdown",
   "id": "d2f22b0574dd87b9",
   "metadata": {
    "collapsed": false
   },
   "source": [
    "Die Länge einer Liste können wir mit der Funktion `len` bestimmen. Diese gibt uns die Anzahl der Elemente in der Liste zurück."
   ]
  },
  {
   "cell_type": "code",
   "execution_count": 57,
   "id": "f2a8897d43af4e34",
   "metadata": {
    "ExecuteTime": {
     "end_time": "2024-01-22T16:31:04.035649430Z",
     "start_time": "2024-01-22T16:31:03.954466981Z"
    },
    "collapsed": false
   },
   "outputs": [
    {
     "data": {
      "text/plain": [
       "12"
      ]
     },
     "execution_count": 57,
     "metadata": {},
     "output_type": "execute_result"
    }
   ],
   "source": [
    "len(stromverbrauch)"
   ]
  },
  {
   "cell_type": "markdown",
   "id": "10b58c9b5e531966",
   "metadata": {
    "collapsed": false
   },
   "source": [
    "Wir können auch auf die letzten Elemente einer Liste zugreifen, indem wir negative Indizes verwenden."
   ]
  },
  {
   "cell_type": "code",
   "execution_count": 58,
   "id": "9b53405c35376f6b",
   "metadata": {
    "ExecuteTime": {
     "end_time": "2024-01-22T16:31:04.060958578Z",
     "start_time": "2024-01-22T16:31:03.996816428Z"
    },
    "collapsed": false
   },
   "outputs": [
    {
     "data": {
      "text/plain": [
       "120.22"
      ]
     },
     "execution_count": 58,
     "metadata": {},
     "output_type": "execute_result"
    }
   ],
   "source": [
    "stromverbrauch[len(stromverbrauch) - 1]"
   ]
  },
  {
   "cell_type": "code",
   "execution_count": 59,
   "id": "3e94581d4959c0e",
   "metadata": {
    "ExecuteTime": {
     "end_time": "2024-01-22T16:31:04.128234453Z",
     "start_time": "2024-01-22T16:31:04.038629790Z"
    },
    "collapsed": false
   },
   "outputs": [
    {
     "data": {
      "text/plain": [
       "120.22"
      ]
     },
     "execution_count": 59,
     "metadata": {},
     "output_type": "execute_result"
    }
   ],
   "source": [
    "stromverbrauch[-1]"
   ]
  },
  {
   "cell_type": "markdown",
   "id": "1f347c470d942136",
   "metadata": {
    "collapsed": false
   },
   "source": [
    "Wir können auch auf mehrere Elemente einer Liste zugreifen, indem wir den Index des ersten Elements und den Index des letzten Elements in eckigen Klammern hinter den Namen der Liste schreiben. Der Index des letzten Elements ist dabei exklusiv."
   ]
  },
  {
   "cell_type": "code",
   "execution_count": 60,
   "id": "c7e103e9058273e2",
   "metadata": {
    "ExecuteTime": {
     "end_time": "2024-01-22T16:31:04.145970879Z",
     "start_time": "2024-01-22T16:31:04.120978786Z"
    },
    "collapsed": false
   },
   "outputs": [
    {
     "data": {
      "text/plain": [
       "[100, 120, 80]"
      ]
     },
     "execution_count": 60,
     "metadata": {},
     "output_type": "execute_result"
    }
   ],
   "source": [
    "stromverbrauch[0:3]"
   ]
  },
  {
   "cell_type": "markdown",
   "id": "66223ba88e012ee9",
   "metadata": {
    "collapsed": false
   },
   "source": [
    "Das ist das gleiche wie"
   ]
  },
  {
   "cell_type": "markdown",
   "id": "f4192861a35e3dd8",
   "metadata": {
    "collapsed": false
   },
   "source": []
  },
  {
   "cell_type": "code",
   "execution_count": 61,
   "id": "ebfaf110d9bced3c",
   "metadata": {
    "ExecuteTime": {
     "end_time": "2024-01-22T16:31:06.122847002Z",
     "start_time": "2024-01-22T16:31:06.068957631Z"
    },
    "collapsed": false
   },
   "outputs": [
    {
     "data": {
      "text/plain": [
       "[100, 120, 80]"
      ]
     },
     "execution_count": 61,
     "metadata": {},
     "output_type": "execute_result"
    }
   ],
   "source": [
    "stromverbrauch[:3]"
   ]
  },
  {
   "cell_type": "code",
   "execution_count": 62,
   "id": "400a1132b7025655",
   "metadata": {
    "ExecuteTime": {
     "end_time": "2024-01-22T16:31:08.872010898Z",
     "start_time": "2024-01-22T16:31:08.815465483Z"
    },
    "collapsed": false
   },
   "outputs": [
    {
     "data": {
      "text/plain": [
       "True"
      ]
     },
     "execution_count": 62,
     "metadata": {},
     "output_type": "execute_result"
    }
   ],
   "source": [
    "stromverbrauch[0:3] == stromverbrauch[:3]"
   ]
  },
  {
   "cell_type": "markdown",
   "id": "ba7f8d6765a75523",
   "metadata": {
    "collapsed": false
   },
   "source": []
  },
  {
   "cell_type": "code",
   "execution_count": 63,
   "id": "4d6a8f7473f71380",
   "metadata": {
    "ExecuteTime": {
     "end_time": "2024-01-22T16:31:11.508266911Z",
     "start_time": "2024-01-22T16:31:11.447353846Z"
    },
    "collapsed": false
   },
   "outputs": [
    {
     "data": {
      "text/plain": [
       "[90, 110, 100]"
      ]
     },
     "execution_count": 63,
     "metadata": {},
     "output_type": "execute_result"
    }
   ],
   "source": [
    "stromverbrauch[3:6]"
   ]
  },
  {
   "cell_type": "code",
   "execution_count": 64,
   "id": "5ca476bfdc40393a",
   "metadata": {
    "ExecuteTime": {
     "end_time": "2024-01-22T16:31:14.298470548Z",
     "start_time": "2024-01-22T16:31:14.291689176Z"
    },
    "collapsed": false
   },
   "outputs": [
    {
     "data": {
      "text/plain": [
       "True"
      ]
     },
     "execution_count": 64,
     "metadata": {},
     "output_type": "execute_result"
    }
   ],
   "source": [
    "stromverbrauch[3:6] == stromverbrauch[3:-6]"
   ]
  },
  {
   "cell_type": "markdown",
   "id": "5e569e645a5f7565",
   "metadata": {
    "collapsed": false
   },
   "source": [
    "Wir können diese Schreibweise auch verwenden, um einzelne Elemente einer Liste zu verändern."
   ]
  },
  {
   "cell_type": "code",
   "execution_count": 53,
   "id": "aed506eacf2b8640",
   "metadata": {
    "ExecuteTime": {
     "end_time": "2024-01-19T15:11:30.518655867Z",
     "start_time": "2024-01-19T15:11:30.491768390Z"
    },
    "collapsed": false
   },
   "outputs": [
    {
     "data": {
      "text/plain": [
       "[1, 120, 80, 90, 110, 100, 120, 80, 90.12, 110, 100, 120.22]"
      ]
     },
     "execution_count": 53,
     "metadata": {},
     "output_type": "execute_result"
    }
   ],
   "source": [
    "stromverbrauch[0] = 1\n",
    "stromverbrauch"
   ]
  },
  {
   "cell_type": "code",
   "execution_count": 54,
   "id": "b9383d0fed5483e6",
   "metadata": {
    "ExecuteTime": {
     "end_time": "2024-01-19T15:11:45.898497322Z",
     "start_time": "2024-01-19T15:11:45.852660662Z"
    },
    "collapsed": false
   },
   "outputs": [
    {
     "data": {
      "text/plain": [
       "[5, 5, 8, 90, 110, 100, 120, 80, 90.12, 110, 100, 120.22]"
      ]
     },
     "execution_count": 54,
     "metadata": {},
     "output_type": "execute_result"
    }
   ],
   "source": [
    "stromverbrauch[0:3] = [5, 5, 8]\n",
    "stromverbrauch"
   ]
  },
  {
   "cell_type": "markdown",
   "id": "ded0903cdf3941e3",
   "metadata": {
    "collapsed": false
   },
   "source": [
    "Tuple sind wie Listen, nur dass sie nicht verändert werden können. Wir können sie mit runden Klammern erstellen. Im folgenden Beispiel erstellen wir ein Tuple mit den Monatsnamen. Dann versuchen wir, das erste Element zu verändern. Das funktioniert nicht."
   ]
  },
  {
   "cell_type": "code",
   "execution_count": 61,
   "id": "b4577303ae7867c1",
   "metadata": {
    "ExecuteTime": {
     "end_time": "2024-01-19T15:17:58.638901272Z",
     "start_time": "2024-01-19T15:17:58.631693936Z"
    },
    "collapsed": false
   },
   "outputs": [],
   "source": [
    "monatsnamen = (\"Januar\", \"Februar\", \"März\", \"April\", \"Mai\", \"Juni\", \"Juli\",\n",
    "               \"August\", \"September\", \"Oktober\", \"November\", \"Dezember\")"
   ]
  },
  {
   "cell_type": "code",
   "execution_count": 62,
   "id": "c55a961a121099c5",
   "metadata": {
    "ExecuteTime": {
     "end_time": "2024-01-19T15:18:16.317600952Z",
     "start_time": "2024-01-19T15:18:16.274435782Z"
    },
    "collapsed": false
   },
   "outputs": [
    {
     "ename": "TypeError",
     "evalue": "'tuple' object does not support item assignment",
     "output_type": "error",
     "traceback": [
      "\u001b[0;31m---------------------------------------------------------------------------\u001b[0m",
      "\u001b[0;31mTypeError\u001b[0m                                 Traceback (most recent call last)",
      "Cell \u001b[0;32mIn[62], line 1\u001b[0m\n\u001b[0;32m----> 1\u001b[0m monatsnamen[\u001b[38;5;241m0\u001b[39m] \u001b[38;5;241m=\u001b[39m \u001b[38;5;124m\"\u001b[39m\u001b[38;5;124mJänner\u001b[39m\u001b[38;5;124m\"\u001b[39m\n",
      "\u001b[0;31mTypeError\u001b[0m: 'tuple' object does not support item assignment"
     ]
    }
   ],
   "source": [
    "monatsnamen[0] = \"Jänner\""
   ]
  },
  {
   "cell_type": "markdown",
   "id": "23c3df1ef001c056",
   "metadata": {
    "collapsed": false
   },
   "source": [
    "# Schleifen\n",
    "\n",
    "In vielen Fällen wollen wir eine Operation auf alle Elemente einer Liste anwenden. Dafür können wir Schleifen verwenden."
   ]
  },
  {
   "cell_type": "markdown",
   "id": "2314c3ec09508416",
   "metadata": {
    "collapsed": false
   },
   "source": [
    "## For-Schleifen\n"
   ]
  },
  {
   "cell_type": "code",
   "execution_count": 56,
   "id": "fb959ea83cabb510",
   "metadata": {
    "ExecuteTime": {
     "end_time": "2024-01-19T15:13:51.743430174Z",
     "start_time": "2024-01-19T15:13:51.737678116Z"
    },
    "collapsed": false
   },
   "outputs": [
    {
     "name": "stdout",
     "output_type": "stream",
     "text": [
      "Der Stromverbrauch war 5 EUR\n",
      "Der Stromverbrauch war 5 EUR\n",
      "Der Stromverbrauch war 8 EUR\n",
      "Der Stromverbrauch war 90 EUR\n",
      "Der Stromverbrauch war 110 EUR\n",
      "Der Stromverbrauch war 100 EUR\n",
      "Der Stromverbrauch war 120 EUR\n",
      "Der Stromverbrauch war 80 EUR\n",
      "Der Stromverbrauch war 90.12 EUR\n",
      "Der Stromverbrauch war 110 EUR\n",
      "Der Stromverbrauch war 100 EUR\n",
      "Der Stromverbrauch war 120.22 EUR\n"
     ]
    }
   ],
   "source": [
    "for g in stromverbrauch:\n",
    "    print(\"Der Stromverbrauch war\", g, \"EUR\")"
   ]
  },
  {
   "cell_type": "code",
   "execution_count": 59,
   "id": "7b5de03dd4a178cc",
   "metadata": {
    "ExecuteTime": {
     "end_time": "2024-01-19T15:15:03.347130788Z",
     "start_time": "2024-01-19T15:15:03.304068545Z"
    },
    "collapsed": false
   },
   "outputs": [
    {
     "name": "stdout",
     "output_type": "stream",
     "text": [
      "Der Stromverbrauch im Monat Januar war 5 EUR.\n",
      "Der Stromverbrauch im Monat Februar war 5 EUR.\n",
      "Der Stromverbrauch im Monat März war 8 EUR.\n",
      "Der Stromverbrauch im Monat April war 90 EUR.\n",
      "Der Stromverbrauch im Monat Mai war 110 EUR.\n",
      "Der Stromverbrauch im Monat Juni war 100 EUR.\n",
      "Der Stromverbrauch im Monat Juli war 120 EUR.\n",
      "Der Stromverbrauch im Monat August war 80 EUR.\n",
      "Der Stromverbrauch im Monat September war 90.12 EUR.\n",
      "Der Stromverbrauch im Monat Oktober war 110 EUR.\n",
      "Der Stromverbrauch im Monat November war 100 EUR.\n",
      "Der Stromverbrauch im Monat Dezember war 120.22 EUR.\n"
     ]
    }
   ],
   "source": [
    "for idx, g in enumerate(stromverbrauch):\n",
    "    print(f\"Der Stromverbrauch im Monat\", monatsnamen[idx], \"war\", g, \"EUR.\")    "
   ]
  },
  {
   "cell_type": "markdown",
   "id": "e7849a9d81ad6fe",
   "metadata": {
    "collapsed": false
   },
   "source": []
  },
  {
   "cell_type": "markdown",
   "id": "241ce0473e540179",
   "metadata": {
    "collapsed": false
   },
   "source": [
    "Die Namen der Variablen in der `for`-Schleife können wir frei wählen (diese müssen allerdings valide Variablennamen sein)."
   ]
  },
  {
   "cell_type": "code",
   "execution_count": 60,
   "id": "8f894a742a4ae86a",
   "metadata": {
    "ExecuteTime": {
     "end_time": "2024-01-19T15:16:52.008785379Z",
     "start_time": "2024-01-19T15:16:51.966220193Z"
    },
    "collapsed": false
   },
   "outputs": [
    {
     "name": "stdout",
     "output_type": "stream",
     "text": [
      "Der Stromverbrauch im Monat Januar war 5 EUR.\n",
      "Der Stromverbrauch im Monat Februar war 5 EUR.\n",
      "Der Stromverbrauch im Monat März war 8 EUR.\n",
      "Der Stromverbrauch im Monat April war 90 EUR.\n",
      "Der Stromverbrauch im Monat Mai war 110 EUR.\n",
      "Der Stromverbrauch im Monat Juni war 100 EUR.\n",
      "Der Stromverbrauch im Monat Juli war 120 EUR.\n",
      "Der Stromverbrauch im Monat August war 80 EUR.\n",
      "Der Stromverbrauch im Monat September war 90.12 EUR.\n",
      "Der Stromverbrauch im Monat Oktober war 110 EUR.\n",
      "Der Stromverbrauch im Monat November war 100 EUR.\n",
      "Der Stromverbrauch im Monat Dezember war 120.22 EUR.\n"
     ]
    }
   ],
   "source": [
    "for idx, g in enumerate(stromverbrauch):\n",
    "    print(f\"Der Stromverbrauch im Monat\", monatsnamen[idx], \"war\", g, \"EUR.\")   "
   ]
  },
  {
   "cell_type": "markdown",
   "id": "1c9515b85d078d11",
   "metadata": {
    "collapsed": false
   },
   "source": [
    "# Listenabstraktionen (List Comprehensions)\n",
    "\n",
    "In vielen Fällen wollen wir eine Liste oder ein Dictionary erstellen, indem wir eine Operation auf alle Elemente einer anderen Liste anwenden. Dafür können wir Comprehensions verwenden. Last uns zum Beispiel eine Liste mit den Stromverbräuchen in BGN (Lev) erstellen."
   ]
  },
  {
   "cell_type": "code",
   "execution_count": 65,
   "id": "77b785d492621edb",
   "metadata": {
    "ExecuteTime": {
     "end_time": "2024-01-19T15:20:18.163169087Z",
     "start_time": "2024-01-19T15:20:18.136611873Z"
    },
    "collapsed": false
   },
   "outputs": [
    {
     "data": {
      "text/plain": [
       "[9.775,\n",
       " 9.775,\n",
       " 15.64,\n",
       " 175.95000000000002,\n",
       " 215.05,\n",
       " 195.5,\n",
       " 234.60000000000002,\n",
       " 156.4,\n",
       " 176.18460000000002,\n",
       " 215.05,\n",
       " 195.5,\n",
       " 235.0301]"
      ]
     },
     "execution_count": 65,
     "metadata": {},
     "output_type": "execute_result"
    }
   ],
   "source": [
    "stromverbrauch_bgn = [1.955 * g for g in stromverbrauch]\n",
    "stromverbrauch_bgn"
   ]
  },
  {
   "cell_type": "markdown",
   "id": "2d8a3bddb0a0a1db",
   "metadata": {
    "collapsed": false
   },
   "source": [
    "# Bedingte Ausführung (Conditionals)\n",
    "\n",
    "In vielen Fällen wollen wir eine Operation nur unter bestimmten Bedingungen ausführen. Dafür können wir `if`-Statements verwenden."
   ]
  },
  {
   "cell_type": "markdown",
   "id": "fdbfe1143964abd",
   "metadata": {
    "collapsed": false
   },
   "source": []
  },
  {
   "cell_type": "code",
   "execution_count": 66,
   "id": "9d619ed0653bb591",
   "metadata": {
    "ExecuteTime": {
     "end_time": "2024-01-19T15:23:12.529656230Z",
     "start_time": "2024-01-19T15:23:12.455890059Z"
    },
    "collapsed": false
   },
   "outputs": [
    {
     "name": "stdout",
     "output_type": "stream",
     "text": [
      "1 ist nicht größer als 2\n"
     ]
    }
   ],
   "source": [
    "if 1 > 2:\n",
    "    print(\"1 ist größer als 2\")\n",
    "else:\n",
    "    print(\"1 ist nicht größer als 2\")"
   ]
  },
  {
   "cell_type": "code",
   "execution_count": 69,
   "id": "2b7fc6fc35bd06aa",
   "metadata": {
    "ExecuteTime": {
     "end_time": "2024-01-19T15:23:54.811009873Z",
     "start_time": "2024-01-19T15:23:54.805524198Z"
    },
    "collapsed": false
   },
   "outputs": [
    {
     "name": "stdout",
     "output_type": "stream",
     "text": [
      "1 ist kleiner als 2\n"
     ]
    }
   ],
   "source": [
    "if 1 > 2:\n",
    "    print(\"1 ist größer als 2\")\n",
    "elif 1 < 2:\n",
    "    print(\"1 ist kleiner als 2\")\n",
    "else:\n",
    "    print(\"1 ist gleich 2\")"
   ]
  },
  {
   "cell_type": "code",
   "execution_count": 76,
   "id": "f7b98046e264e070",
   "metadata": {
    "ExecuteTime": {
     "end_time": "2024-01-19T15:25:35.077541974Z",
     "start_time": "2024-01-19T15:25:35.035089614Z"
    },
    "collapsed": false
   },
   "outputs": [
    {
     "name": "stdout",
     "output_type": "stream",
     "text": [
      "Der Stromverbrauch im Mai war 110 EUR und damit höher als 100 EUR.\n",
      "Der Stromverbrauch im Juli war 120 EUR und damit höher als 100 EUR.\n",
      "Der Stromverbrauch im Oktober war 110 EUR und damit höher als 100 EUR.\n",
      "Der Stromverbrauch im Dezember war 120.22 EUR und damit höher als 100 EUR.\n"
     ]
    }
   ],
   "source": [
    "for i, g in enumerate(stromverbrauch):\n",
    "    if g > 100:\n",
    "        print(\"Der Stromverbrauch im\", monatsnamen[i], \"war\", g, \"EUR und damit höher als 100 EUR.\")"
   ]
  },
  {
   "cell_type": "code",
   "execution_count": 79,
   "id": "b00d91a4b2bfe15b",
   "metadata": {
    "ExecuteTime": {
     "end_time": "2024-01-19T15:26:40.957037677Z",
     "start_time": "2024-01-19T15:26:40.954500673Z"
    },
    "collapsed": false
   },
   "outputs": [
    {
     "name": "stdout",
     "output_type": "stream",
     "text": [
      "Der Stromverbrauch im Januar war 5 EUR und damit niedriger als 100 EUR.\n",
      "Der Stromverbrauch im Februar war 5 EUR und damit niedriger als 100 EUR.\n",
      "Der Stromverbrauch im März war 8 EUR und damit niedriger als 100 EUR.\n",
      "Der Stromverbrauch im April war 90 EUR und damit niedriger als 100 EUR.\n",
      "Der Stromverbrauch im Mai war 110 EUR und damit höher als 100 EUR.\n",
      "Der Stromverbrauch im Juni war 100 EUR und damit niedriger als 100 EUR.\n",
      "Der Stromverbrauch im Juli war 120 EUR und damit höher als 100 EUR.\n",
      "Der Stromverbrauch im August war 80 EUR und damit niedriger als 100 EUR.\n",
      "Der Stromverbrauch im September war 90.12 EUR und damit niedriger als 100 EUR.\n",
      "Der Stromverbrauch im Oktober war 110 EUR und damit höher als 100 EUR.\n",
      "Der Stromverbrauch im November war 100 EUR und damit niedriger als 100 EUR.\n",
      "Der Stromverbrauch im Dezember war 120.22 EUR und damit höher als 100 EUR.\n"
     ]
    }
   ],
   "source": [
    "for i, g in enumerate(stromverbrauch):\n",
    "    if g > 100:\n",
    "        print(\"Der Stromverbrauch im\", monatsnamen[i], \"war\", g, \"EUR und damit höher als 100 EUR.\")\n",
    "    else:\n",
    "        print(\"Der Stromverbrauch im\", monatsnamen[i], \"war\", g, \"EUR und damit niedriger als 100 EUR.\")"
   ]
  },
  {
   "cell_type": "markdown",
   "id": "a6c41a111a2fb53f",
   "metadata": {
    "collapsed": false
   },
   "source": [
    "Die `map` Funktion wendet eine Funktion auf alle Elemente einer Liste an und gibt einen *Iterator* zurück. Diesen können wir in eine Liste umwandeln."
   ]
  },
  {
   "cell_type": "code",
   "execution_count": 105,
   "id": "8132c1d73217f5bb",
   "metadata": {
    "ExecuteTime": {
     "end_time": "2024-01-19T15:54:19.201514361Z",
     "start_time": "2024-01-19T15:54:19.152620947Z"
    },
    "collapsed": false
   },
   "outputs": [],
   "source": [
    "stromverbrauch_bgn_map = map(eur_to_bgn , stromverbrauch)"
   ]
  },
  {
   "cell_type": "code",
   "execution_count": 106,
   "id": "77ccb86ec63dfd4a",
   "metadata": {
    "ExecuteTime": {
     "end_time": "2024-01-19T15:54:28.185155871Z",
     "start_time": "2024-01-19T15:54:28.171773629Z"
    },
    "collapsed": false
   },
   "outputs": [
    {
     "name": "stdout",
     "output_type": "stream",
     "text": [
      "9.775\n",
      "9.775\n",
      "15.64\n",
      "175.95000000000002\n",
      "215.05\n",
      "195.5\n",
      "234.60000000000002\n",
      "156.4\n",
      "176.18460000000002\n",
      "215.05\n",
      "195.5\n",
      "235.0301\n"
     ]
    }
   ],
   "source": [
    "for g in stromverbrauch_bgn_map:\n",
    "    print(g)"
   ]
  },
  {
   "cell_type": "markdown",
   "id": "c5dea39909cfef55",
   "metadata": {
    "collapsed": false
   },
   "source": [
    "In dem Code oben haben wir über die Elemente des Iterators iteriert. Wenn wir das nochmal machen, wird nichts ausgegeben. Das liegt daran, dass wir den Iterator bereits durchlaufen haben. Wir müssen den Iterator neu erstellen. "
   ]
  },
  {
   "cell_type": "code",
   "execution_count": 107,
   "id": "58c4cd59fb0ce769",
   "metadata": {
    "ExecuteTime": {
     "end_time": "2024-01-19T15:54:37.630134808Z",
     "start_time": "2024-01-19T15:54:37.569865681Z"
    },
    "collapsed": false
   },
   "outputs": [],
   "source": [
    "for g in stromverbrauch_bgn_map:\n",
    "    print(g)"
   ]
  },
  {
   "cell_type": "code",
   "execution_count": null,
   "id": "4faa1ba31144c067",
   "metadata": {
    "collapsed": false
   },
   "outputs": [],
   "source": [
    "stromverbrauch_bgn_map = list(map(eur_to_bgn , stromverbrauch))"
   ]
  },
  {
   "cell_type": "markdown",
   "id": "19e39a95c7803111",
   "metadata": {
    "collapsed": false
   },
   "source": [
    "# Lambdafunktionen\n",
    "\n",
    "Manchmal möchten wir eine Funktion nur einmal verwenden. Dafür können wir Lambda Funktionen verwenden. Diese Funktionen haben keinen Namen. Wir können sie mit dem Schlüsselwort `lambda` erstellen. Die Argumente der Funktion werden durch ein Komma getrennt hinter dem Schlüsselwort `lambda` geschrieben. Der Rückgabewert der Funktion wird nach einem Doppelpunkt geschrieben.\n",
    "\n",
    "Zum Beispiel können wir eine Lambdafunktion verwenden, um den Stromverbrauch in BGN zu berechnen."
   ]
  },
  {
   "cell_type": "code",
   "execution_count": 120,
   "id": "da607aa57732062c",
   "metadata": {
    "ExecuteTime": {
     "end_time": "2024-01-19T15:59:34.714491182Z",
     "start_time": "2024-01-19T15:59:34.658496526Z"
    },
    "collapsed": false
   },
   "outputs": [
    {
     "data": {
      "text/plain": [
       "[500, 500, 800, 9000, 11000, 10000, 12000, 8000, 9012.0, 11000, 10000, 12022.0]"
      ]
     },
     "execution_count": 120,
     "metadata": {},
     "output_type": "execute_result"
    }
   ],
   "source": [
    "stromverbrauch_bgn_cents = list(map(lambda x: 100 * x, stromverbrauch))\n",
    "stromverbrauch_bgn_cents"
   ]
  },
  {
   "cell_type": "markdown",
   "id": "650e1ee2efa5f9e6",
   "metadata": {
    "collapsed": false
   },
   "source": [
    "# Funktionen\n",
    "\n",
    "Sehr häufig möchten wir eine Operation mehrmals ausführen. Dafür können wir Funktionen verwenden, um bestimmte Operationen zu abstrahieren.\n",
    "\n",
    "Als Beispiel nehmen wir eine Funktion, die einen Wert in EUR annimmt und den Wert in BGN umrechnet. Auf diese Art können wir den Wechselkurs leicht ändern (wir müssen nur die Funkction `to_bgn` ändern), ohne die Umrechnung an vielen Stellen im Code ändern zu müssen."
   ]
  },
  {
   "cell_type": "code",
   "execution_count": 84,
   "id": "58d62ddd23860f37",
   "metadata": {
    "ExecuteTime": {
     "end_time": "2024-01-19T15:31:06.490637412Z",
     "start_time": "2024-01-19T15:31:06.441323539Z"
    },
    "collapsed": false
   },
   "outputs": [],
   "source": [
    "def eur_to_bgn(x: float) -> float:\n",
    "    return 1.955 * x"
   ]
  },
  {
   "cell_type": "code",
   "execution_count": 85,
   "id": "237b9d5e88d237b6",
   "metadata": {
    "ExecuteTime": {
     "end_time": "2024-01-19T15:31:08.122168451Z",
     "start_time": "2024-01-19T15:31:08.113723126Z"
    },
    "collapsed": false
   },
   "outputs": [
    {
     "data": {
      "text/plain": [
       "195.5"
      ]
     },
     "execution_count": 85,
     "metadata": {},
     "output_type": "execute_result"
    }
   ],
   "source": [
    "eur_to_bgn(100)"
   ]
  },
  {
   "cell_type": "code",
   "execution_count": 86,
   "id": "252f9d5528bf4255",
   "metadata": {
    "ExecuteTime": {
     "end_time": "2024-01-19T15:31:10.111221367Z",
     "start_time": "2024-01-19T15:31:10.105274225Z"
    },
    "collapsed": false
   },
   "outputs": [
    {
     "data": {
      "text/plain": [
       "[9.775,\n",
       " 9.775,\n",
       " 15.64,\n",
       " 175.95000000000002,\n",
       " 215.05,\n",
       " 195.5,\n",
       " 234.60000000000002,\n",
       " 156.4,\n",
       " 176.18460000000002,\n",
       " 215.05,\n",
       " 195.5,\n",
       " 235.0301]"
      ]
     },
     "execution_count": 86,
     "metadata": {},
     "output_type": "execute_result"
    }
   ],
   "source": [
    "[eur_to_bgn(g) for g in stromverbrauch]"
   ]
  },
  {
   "cell_type": "markdown",
   "id": "b18a05f2a61f3f7d",
   "metadata": {
    "collapsed": false
   },
   "source": [
    "# Dictionaries\n",
    "\n",
    "Es is sehr häufig, dass wir nicht nur einzelne Werte, sondern ganze Datensätze verwenden wollen. Dafür können wir Dictionaries verwenden. Dictionaries sind wie Listen, nur dass wir nicht mit Indizes, sondern mit Schlüsseln auf die Elemente zugreifen. Schlüssel können beliebige unveränderbare Datentypen sein (z.B. Strings, Zahlen, Tupel). Werte können beliebige Datentypen sein. Wir können Dictionaries mit geschweiften Klammern erstellen. Die Werte in einem Dictionary werden mit einem Doppelpunkt vom Schlüssel getrennt. Die einzelnen Elemente werden mit Kommas getrennt. \n",
    "\n",
    "Die Ordnung der Elemente ist nicht definiert!\n"
   ]
  },
  {
   "cell_type": "code",
   "execution_count": 88,
   "id": "7097fc414d80b65a",
   "metadata": {
    "ExecuteTime": {
     "end_time": "2024-01-19T15:48:34.424030415Z",
     "start_time": "2024-01-19T15:48:34.415470007Z"
    },
    "collapsed": false
   },
   "outputs": [],
   "source": [
    "stromverbrauch_dict = {\n",
    "    \"Januar\": 100,\n",
    "    \"Februar\": 120,\n",
    "    \"März\": 80,\n",
    "    \"April\": 90,\n",
    "    \"Mai\": 110,\n",
    "    \"Juni\": 100,\n",
    "    \"Juli\": 120,\n",
    "    \"August\": 80,\n",
    "    \"September\": 90.12,\n",
    "    \"Oktober\": 110,\n",
    "    \"November\": 100,\n",
    "    \"Dezember\": 120.22\n",
    "}"
   ]
  },
  {
   "cell_type": "markdown",
   "id": "1a8558dd1e335d0c",
   "metadata": {
    "collapsed": false
   },
   "source": []
  },
  {
   "cell_type": "code",
   "execution_count": 89,
   "id": "71bd71b230479043",
   "metadata": {
    "ExecuteTime": {
     "end_time": "2024-01-19T15:48:36.902682539Z",
     "start_time": "2024-01-19T15:48:36.848636624Z"
    },
    "collapsed": false
   },
   "outputs": [
    {
     "data": {
      "text/plain": [
       "100"
      ]
     },
     "execution_count": 89,
     "metadata": {},
     "output_type": "execute_result"
    }
   ],
   "source": [
    "stromverbrauch_dict[\"Januar\"]"
   ]
  },
  {
   "cell_type": "code",
   "execution_count": 90,
   "id": "956457f38fc052c3",
   "metadata": {
    "ExecuteTime": {
     "end_time": "2024-01-19T15:49:13.186752055Z",
     "start_time": "2024-01-19T15:49:13.139386651Z"
    },
    "collapsed": false
   },
   "outputs": [
    {
     "ename": "KeyError",
     "evalue": "'FDFFF'",
     "output_type": "error",
     "traceback": [
      "\u001b[0;31m---------------------------------------------------------------------------\u001b[0m",
      "\u001b[0;31mKeyError\u001b[0m                                  Traceback (most recent call last)",
      "Cell \u001b[0;32mIn[90], line 1\u001b[0m\n\u001b[0;32m----> 1\u001b[0m stromverbrauch_dict[\u001b[38;5;124m\"\u001b[39m\u001b[38;5;124mFDFFF\u001b[39m\u001b[38;5;124m\"\u001b[39m]\n",
      "\u001b[0;31mKeyError\u001b[0m: 'FDFFF'"
     ]
    }
   ],
   "source": [
    "stromverbrauch_dict[\"FDFFF\"]"
   ]
  },
  {
   "cell_type": "markdown",
   "id": "75ccfaa8d3d96177",
   "metadata": {
    "collapsed": false
   },
   "source": [
    "Wir können auf "
   ]
  },
  {
   "cell_type": "code",
   "execution_count": 94,
   "id": "aceadff0e31fc93",
   "metadata": {
    "ExecuteTime": {
     "end_time": "2024-01-19T15:49:57.982474954Z",
     "start_time": "2024-01-19T15:49:57.966445829Z"
    },
    "collapsed": false
   },
   "outputs": [
    {
     "data": {
      "text/plain": [
       "100"
      ]
     },
     "execution_count": 94,
     "metadata": {},
     "output_type": "execute_result"
    }
   ],
   "source": [
    "stromverbrauch_dict.get(\"Januar\")"
   ]
  },
  {
   "cell_type": "code",
   "execution_count": 97,
   "id": "13266bc864c0ec3",
   "metadata": {
    "ExecuteTime": {
     "end_time": "2024-01-19T15:50:07.475056350Z",
     "start_time": "2024-01-19T15:50:07.388153791Z"
    },
    "collapsed": false
   },
   "outputs": [
    {
     "data": {
      "text/plain": [
       "True"
      ]
     },
     "execution_count": 97,
     "metadata": {},
     "output_type": "execute_result"
    }
   ],
   "source": [
    "stromverbrauch_dict.get(\"FDFF\") == None"
   ]
  },
  {
   "cell_type": "markdown",
   "id": "899a9e6a910e518",
   "metadata": {
    "collapsed": false
   },
   "source": []
  },
  {
   "cell_type": "markdown",
   "id": "5a6679b985488969",
   "metadata": {
    "collapsed": false
   },
   "source": [
    "Wir können über die Schlüssel eines Dictionaries iterieren.\n"
   ]
  },
  {
   "cell_type": "code",
   "execution_count": 98,
   "id": "a8e97f6d9b59e7cd",
   "metadata": {
    "ExecuteTime": {
     "end_time": "2024-01-19T15:50:32.769654293Z",
     "start_time": "2024-01-19T15:50:32.728876254Z"
    },
    "collapsed": false
   },
   "outputs": [
    {
     "name": "stdout",
     "output_type": "stream",
     "text": [
      "Januar\n",
      "Februar\n",
      "März\n",
      "April\n",
      "Mai\n",
      "Juni\n",
      "Juli\n",
      "August\n",
      "September\n",
      "Oktober\n",
      "November\n",
      "Dezember\n"
     ]
    }
   ],
   "source": [
    "for key in stromverbrauch_dict:\n",
    "    print(key)"
   ]
  },
  {
   "cell_type": "markdown",
   "id": "79bff8544df6c49d",
   "metadata": {
    "collapsed": false
   },
   "source": [
    "Wir können auch über die Schlüssel und Werte eines Dictionaries iterieren."
   ]
  },
  {
   "cell_type": "code",
   "execution_count": 100,
   "id": "b10d3cd398661a52",
   "metadata": {
    "ExecuteTime": {
     "end_time": "2024-01-19T15:51:05.584479706Z",
     "start_time": "2024-01-19T15:51:05.515882003Z"
    },
    "collapsed": false
   },
   "outputs": [
    {
     "name": "stdout",
     "output_type": "stream",
     "text": [
      "Im Januar war der Stromverbrauch 100 EUR.\n",
      "Im Februar war der Stromverbrauch 120 EUR.\n",
      "Im März war der Stromverbrauch 80 EUR.\n",
      "Im April war der Stromverbrauch 90 EUR.\n",
      "Im Mai war der Stromverbrauch 110 EUR.\n",
      "Im Juni war der Stromverbrauch 100 EUR.\n",
      "Im Juli war der Stromverbrauch 120 EUR.\n",
      "Im August war der Stromverbrauch 80 EUR.\n",
      "Im September war der Stromverbrauch 90.12 EUR.\n",
      "Im Oktober war der Stromverbrauch 110 EUR.\n",
      "Im November war der Stromverbrauch 100 EUR.\n",
      "Im Dezember war der Stromverbrauch 120.22 EUR.\n"
     ]
    }
   ],
   "source": [
    "for key, value in stromverbrauch_dict.items():\n",
    "    print(f\"Im {key} war der Stromverbrauch {value} EUR.\")"
   ]
  },
  {
   "cell_type": "markdown",
   "id": "f5bfcc5704fa6039",
   "metadata": {
    "collapsed": false
   },
   "source": [
    "# Dictionaryabstraktionen (Dictionary Comprehensions)\n",
    "\n",
    "In vielen Fällen wollen wir ein Dictionary erstellen, indem wir eine Operation auf alle Elemente eines anderen Dictionaries anwenden. Dafür können wir Comprehensions verwenden. Last uns zum Beispiel ein Dictionary mit den Stromverbräuchen in BGN (Lev) erstellen.\n"
   ]
  },
  {
   "cell_type": "code",
   "execution_count": 102,
   "id": "cc9dd4f5b479ee6",
   "metadata": {
    "ExecuteTime": {
     "end_time": "2024-01-19T15:51:54.663055454Z",
     "start_time": "2024-01-19T15:51:54.653711872Z"
    },
    "collapsed": false
   },
   "outputs": [
    {
     "data": {
      "text/plain": [
       "{'Januar': 195.5,\n",
       " 'Februar': 234.60000000000002,\n",
       " 'März': 156.4,\n",
       " 'April': 175.95000000000002,\n",
       " 'Mai': 215.05,\n",
       " 'Juni': 195.5,\n",
       " 'Juli': 234.60000000000002,\n",
       " 'August': 156.4,\n",
       " 'September': 176.18460000000002,\n",
       " 'Oktober': 215.05,\n",
       " 'November': 195.5,\n",
       " 'Dezember': 235.0301}"
      ]
     },
     "execution_count": 102,
     "metadata": {},
     "output_type": "execute_result"
    }
   ],
   "source": [
    "stromverbrauch_bgn_dict = {key: 1.955 * value for key, value in stromverbrauch_dict.items()}\n",
    "stromverbrauch_bgn_dict"
   ]
  },
  {
   "cell_type": "markdown",
   "id": "90c3816100680a50",
   "metadata": {
    "collapsed": false
   },
   "source": []
  },
  {
   "cell_type": "markdown",
   "id": "677be398a48a46fe",
   "metadata": {
    "collapsed": false
   },
   "source": [
    "Mit der Funktion `zip` können wir zwei Listen zu einem Dictionary zusammenfügen."
   ]
  },
  {
   "cell_type": "code",
   "execution_count": 104,
   "id": "8e0016fdb68dc900",
   "metadata": {
    "ExecuteTime": {
     "end_time": "2024-01-19T15:52:33.198034623Z",
     "start_time": "2024-01-19T15:52:33.147232845Z"
    },
    "collapsed": false
   },
   "outputs": [
    {
     "data": {
      "text/plain": [
       "{'Januar': 5,\n",
       " 'Februar': 5,\n",
       " 'März': 8,\n",
       " 'April': 90,\n",
       " 'Mai': 110,\n",
       " 'Juni': 100,\n",
       " 'Juli': 120,\n",
       " 'August': 80,\n",
       " 'September': 90.12,\n",
       " 'Oktober': 110,\n",
       " 'November': 100,\n",
       " 'Dezember': 120.22}"
      ]
     },
     "execution_count": 104,
     "metadata": {},
     "output_type": "execute_result"
    }
   ],
   "source": [
    "dict(zip(monatsnamen, stromverbrauch))"
   ]
  }
 ],
 "metadata": {
  "kernelspec": {
   "display_name": "Python 3",
   "language": "python",
   "name": "python3"
  },
  "language_info": {
   "codemirror_mode": {
    "name": "ipython",
    "version": 3
   },
   "file_extension": ".py",
   "mimetype": "text/x-python",
   "name": "python",
   "nbconvert_exporter": "python",
   "pygments_lexer": "ipython3",
   "version": "3.9.18"
  }
 },
 "nbformat": 4,
 "nbformat_minor": 5
}
