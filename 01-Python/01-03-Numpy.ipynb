{
 "cells": [
  {
   "cell_type": "markdown",
   "source": [
    "# NumPy\n",
    "\n",
    "In der vorherigen Lektion haben wir uns mit Listen beschäftigt. Diese sind sehr flexibel, aber auch sehr langsam. Mit kleinen Listen werden wir das nicht merken, aber wenn wir mit großen Datenmengen arbeiten, dann кönnen lange Laufzeiten zum Problem werden. \n",
    "\n",
    "NumPy (Numerical Python) ist ein Paket, das viele Funktionen enthält, die wir für die Arbeit mit großen Datenmengen geeignet sind."
   ],
   "metadata": {
    "collapsed": false
   },
   "id": "a2fcfe7437c36099"
  },
  {
   "cell_type": "code",
   "execution_count": 5,
   "id": "initial_id",
   "metadata": {
    "collapsed": true,
    "ExecuteTime": {
     "end_time": "2024-01-19T16:29:54.349176183Z",
     "start_time": "2024-01-19T16:29:54.339771398Z"
    }
   },
   "outputs": [],
   "source": [
    "import numpy as np\n",
    "from time import process_time"
   ]
  },
  {
   "cell_type": "code",
   "outputs": [],
   "source": [
    "# Wir können eine Liste in ein NumPy-Array umwandeln\n",
    "a_list = range(int(1e6))\n",
    "a_array = np.array(a_list)"
   ],
   "metadata": {
    "collapsed": false,
    "ExecuteTime": {
     "end_time": "2024-01-19T16:29:55.958053740Z",
     "start_time": "2024-01-19T16:29:55.915456071Z"
    }
   },
   "id": "9a68cec80ed53375",
   "execution_count": 6
  },
  {
   "cell_type": "code",
   "outputs": [
    {
     "data": {
      "text/plain": "0.72373"
     },
     "execution_count": 7,
     "metadata": {},
     "output_type": "execute_result"
    }
   ],
   "source": [
    "start_zeit = process_time()\n",
    "\n",
    "a_list_plus_2 = [i + 2 for i in a_list]\n",
    "\n",
    "end_zeit = process_time()\n",
    "round(end_zeit - start_zeit, 5)"
   ],
   "metadata": {
    "collapsed": false,
    "ExecuteTime": {
     "end_time": "2024-01-19T16:29:58.245510074Z",
     "start_time": "2024-01-19T16:29:57.533901745Z"
    }
   },
   "id": "7abbacb502c3ffa4",
   "execution_count": 7
  },
  {
   "cell_type": "code",
   "outputs": [
    {
     "data": {
      "text/plain": "0.01351"
     },
     "execution_count": 8,
     "metadata": {},
     "output_type": "execute_result"
    }
   ],
   "source": [
    "start_zeit_1 = process_time()\n",
    "\n",
    "a_array_plus_2 = a_array + 2\n",
    "\n",
    "end_zeit_1 = process_time()\n",
    "round(end_zeit_1 - start_zeit_1, 5)"
   ],
   "metadata": {
    "collapsed": false,
    "ExecuteTime": {
     "end_time": "2024-01-19T16:30:00.767921523Z",
     "start_time": "2024-01-19T16:30:00.735087638Z"
    }
   },
   "id": "6daef4bf6d2b5ab8",
   "execution_count": 8
  },
  {
   "cell_type": "code",
   "outputs": [
    {
     "data": {
      "text/plain": "array([1., 1., 1., 1.])"
     },
     "execution_count": 14,
     "metadata": {},
     "output_type": "execute_result"
    }
   ],
   "source": [
    "x = np.array([2, 7, 5, 2])\n",
    "y = np.ones(4)\n",
    "y"
   ],
   "metadata": {
    "collapsed": false,
    "ExecuteTime": {
     "end_time": "2024-01-19T16:33:02.667922877Z",
     "start_time": "2024-01-19T16:33:02.635396512Z"
    }
   },
   "id": "41c5c07e9de7bd4",
   "execution_count": 14
  },
  {
   "cell_type": "markdown",
   "source": [
    "NumPy-Arrays sind sehr ähnlich zu Listen, aber sie haben einige zusätzliche Eigenschaften. Zum Beispiel können wir mit NumPy-Arrays rechnen. Wenn wir zwei NumPy-Arrays addieren, dann werden die Elemente an der gleichen Stelle addiert. Diese Syntax ist sehr intuitiv und einfach zu lesen.\n"
   ],
   "metadata": {
    "collapsed": false
   },
   "id": "4975406de5b95984"
  },
  {
   "cell_type": "code",
   "outputs": [
    {
     "data": {
      "text/plain": "array([3, 8, 6, 3])"
     },
     "execution_count": 15,
     "metadata": {},
     "output_type": "execute_result"
    }
   ],
   "source": [
    "z1 = x + 1 \n",
    "z2 = x + y\n",
    "z1"
   ],
   "metadata": {
    "collapsed": false,
    "ExecuteTime": {
     "end_time": "2024-01-19T16:33:08.850239308Z",
     "start_time": "2024-01-19T16:33:08.840508861Z"
    }
   },
   "id": "103508432468940a",
   "execution_count": 15
  },
  {
   "cell_type": "code",
   "outputs": [
    {
     "data": {
      "text/plain": "array([3., 8., 6., 3.])"
     },
     "execution_count": 16,
     "metadata": {},
     "output_type": "execute_result"
    }
   ],
   "source": [
    "z2"
   ],
   "metadata": {
    "collapsed": false,
    "ExecuteTime": {
     "end_time": "2024-01-19T16:33:11.038533803Z",
     "start_time": "2024-01-19T16:33:11.032833822Z"
    }
   },
   "id": "4a78461f96d415cb",
   "execution_count": 16
  },
  {
   "cell_type": "markdown",
   "source": [
    "Dasselbe funktioniert mit Python-Listen nicht. Wenn wir zwei Listen addieren, dann werden die Elemente an der gleichen Stelle nicht addiert, sondern die Listen werden aneinander gehängt."
   ],
   "metadata": {
    "collapsed": false
   },
   "id": "682519be24526ac3"
  },
  {
   "cell_type": "markdown",
   "source": [],
   "metadata": {
    "collapsed": false
   },
   "id": "e9d9442aa9dac5d0"
  },
  {
   "cell_type": "code",
   "outputs": [
    {
     "data": {
      "text/plain": "[2, 7, 5, 2, 1, 1, 1, 1]"
     },
     "execution_count": 17,
     "metadata": {},
     "output_type": "execute_result"
    }
   ],
   "source": [
    "x_list = [2, 7, 5, 2]\n",
    "y_list = [1, 1, 1, 1]\n",
    "x_list + y_list"
   ],
   "metadata": {
    "collapsed": false,
    "ExecuteTime": {
     "end_time": "2024-01-19T16:33:29.091072754Z",
     "start_time": "2024-01-19T16:33:29.041344389Z"
    }
   },
   "id": "8238f77bff4e06d8",
   "execution_count": 17
  },
  {
   "cell_type": "code",
   "outputs": [
    {
     "ename": "TypeError",
     "evalue": "can only concatenate list (not \"int\") to list",
     "output_type": "error",
     "traceback": [
      "\u001B[0;31m---------------------------------------------------------------------------\u001B[0m",
      "\u001B[0;31mTypeError\u001B[0m                                 Traceback (most recent call last)",
      "Cell \u001B[0;32mIn[18], line 1\u001B[0m\n\u001B[0;32m----> 1\u001B[0m x_list \u001B[38;5;241m+\u001B[39m \u001B[38;5;241m1\u001B[39m\n",
      "\u001B[0;31mTypeError\u001B[0m: can only concatenate list (not \"int\") to list"
     ]
    }
   ],
   "source": [
    "x_list + 1"
   ],
   "metadata": {
    "collapsed": false,
    "ExecuteTime": {
     "end_time": "2024-01-19T16:33:44.680301381Z",
     "start_time": "2024-01-19T16:33:44.606103755Z"
    }
   },
   "id": "ca93c52ab1e9beb5",
   "execution_count": 18
  },
  {
   "cell_type": "markdown",
   "source": [
    "NumPy-Arrays haben auch einige Methoden, die wir mit Listen nicht haben. Zum Beispiel können wir die Summe aller Elemente eines Arrays berechnen."
   ],
   "metadata": {
    "collapsed": false
   },
   "id": "3f6fd544341a8c97"
  },
  {
   "cell_type": "code",
   "outputs": [
    {
     "data": {
      "text/plain": "16"
     },
     "execution_count": 19,
     "metadata": {},
     "output_type": "execute_result"
    }
   ],
   "source": [
    "x.sum()"
   ],
   "metadata": {
    "collapsed": false,
    "ExecuteTime": {
     "end_time": "2024-01-19T16:34:16.462615208Z",
     "start_time": "2024-01-19T16:34:16.415193125Z"
    }
   },
   "id": "b4f1c863d071be31",
   "execution_count": 19
  },
  {
   "cell_type": "code",
   "outputs": [
    {
     "data": {
      "text/plain": "4.0"
     },
     "execution_count": 20,
     "metadata": {},
     "output_type": "execute_result"
    }
   ],
   "source": [
    "x.mean()"
   ],
   "metadata": {
    "collapsed": false,
    "ExecuteTime": {
     "end_time": "2024-01-19T16:34:23.758686996Z",
     "start_time": "2024-01-19T16:34:23.749056123Z"
    }
   },
   "id": "9fd27821a15fa09c",
   "execution_count": 20
  },
  {
   "cell_type": "code",
   "outputs": [
    {
     "data": {
      "text/plain": "2.1213203435596424"
     },
     "execution_count": 21,
     "metadata": {},
     "output_type": "execute_result"
    }
   ],
   "source": [
    "x.std()"
   ],
   "metadata": {
    "collapsed": false,
    "ExecuteTime": {
     "end_time": "2024-01-19T16:34:28.778738929Z",
     "start_time": "2024-01-19T16:34:28.735085968Z"
    }
   },
   "id": "690eace8cca0f0e3",
   "execution_count": 21
  },
  {
   "cell_type": "code",
   "outputs": [
    {
     "data": {
      "text/plain": "2"
     },
     "execution_count": 22,
     "metadata": {},
     "output_type": "execute_result"
    }
   ],
   "source": [
    "x.min()"
   ],
   "metadata": {
    "collapsed": false,
    "ExecuteTime": {
     "end_time": "2024-01-19T16:35:48.306704045Z",
     "start_time": "2024-01-19T16:35:48.262077443Z"
    }
   },
   "id": "9f04389c844c5d0b",
   "execution_count": 22
  },
  {
   "cell_type": "code",
   "outputs": [],
   "source": [
    "x.max()"
   ],
   "metadata": {
    "collapsed": false
   },
   "id": "c0a15217f08e2c38"
  },
  {
   "cell_type": "code",
   "outputs": [
    {
     "data": {
      "text/plain": "0"
     },
     "execution_count": 23,
     "metadata": {},
     "output_type": "execute_result"
    }
   ],
   "source": [
    "x.argmin()"
   ],
   "metadata": {
    "collapsed": false,
    "ExecuteTime": {
     "end_time": "2024-01-19T16:35:55.738423504Z",
     "start_time": "2024-01-19T16:35:55.692970343Z"
    }
   },
   "id": "686a7d13caab9e30",
   "execution_count": 23
  },
  {
   "cell_type": "code",
   "outputs": [
    {
     "data": {
      "text/plain": "1"
     },
     "execution_count": 24,
     "metadata": {},
     "output_type": "execute_result"
    }
   ],
   "source": [
    "x.argmax()"
   ],
   "metadata": {
    "collapsed": false,
    "ExecuteTime": {
     "end_time": "2024-01-19T16:35:59.946077017Z",
     "start_time": "2024-01-19T16:35:59.923555482Z"
    }
   },
   "id": "c73cc98f94f76d61",
   "execution_count": 24
  },
  {
   "cell_type": "markdown",
   "source": [
    "Wir können auch auf die Elemente eines Arrays zugreifen, indem wir einen Index angeben. Der Index beginnt bei 0."
   ],
   "metadata": {
    "collapsed": false
   },
   "id": "28a5cb77a5fcf9bc"
  },
  {
   "cell_type": "code",
   "outputs": [
    {
     "data": {
      "text/plain": "2"
     },
     "execution_count": 25,
     "metadata": {},
     "output_type": "execute_result"
    }
   ],
   "source": [
    "x[0]"
   ],
   "metadata": {
    "collapsed": false,
    "ExecuteTime": {
     "end_time": "2024-01-19T16:36:43.266713224Z",
     "start_time": "2024-01-19T16:36:43.260188393Z"
    }
   },
   "id": "72e5f25f2eb01a2",
   "execution_count": 25
  },
  {
   "cell_type": "code",
   "outputs": [
    {
     "data": {
      "text/plain": "array([2, 7])"
     },
     "execution_count": 26,
     "metadata": {},
     "output_type": "execute_result"
    }
   ],
   "source": [
    "x[:2]"
   ],
   "metadata": {
    "collapsed": false,
    "ExecuteTime": {
     "end_time": "2024-01-19T16:36:51.782503290Z",
     "start_time": "2024-01-19T16:36:51.776577486Z"
    }
   },
   "id": "d3296f86a9e55029",
   "execution_count": 26
  },
  {
   "cell_type": "code",
   "outputs": [
    {
     "data": {
      "text/plain": "array([7, 5, 2])"
     },
     "execution_count": 29,
     "metadata": {},
     "output_type": "execute_result"
    }
   ],
   "source": [
    "x[-3]"
   ],
   "metadata": {
    "collapsed": false,
    "ExecuteTime": {
     "end_time": "2024-01-19T16:37:17.679613708Z",
     "start_time": "2024-01-19T16:37:17.631610036Z"
    }
   },
   "id": "1bfeee24cf7bd00d",
   "execution_count": 29
  },
  {
   "cell_type": "code",
   "outputs": [
    {
     "data": {
      "text/plain": "array([7, 5, 2])"
     },
     "execution_count": 30,
     "metadata": {},
     "output_type": "execute_result"
    }
   ],
   "source": [
    "x[-3:]"
   ],
   "metadata": {
    "collapsed": false,
    "ExecuteTime": {
     "end_time": "2024-01-19T16:37:30.907200360Z",
     "start_time": "2024-01-19T16:37:30.851992922Z"
    }
   },
   "id": "3ccb0f83eb72615c",
   "execution_count": 30
  },
  {
   "cell_type": "code",
   "outputs": [
    {
     "data": {
      "text/plain": "array([7, 5])"
     },
     "execution_count": 31,
     "metadata": {},
     "output_type": "execute_result"
    }
   ],
   "source": [
    "x[1:3]"
   ],
   "metadata": {
    "collapsed": false,
    "ExecuteTime": {
     "end_time": "2024-01-19T16:37:35.356379796Z",
     "start_time": "2024-01-19T16:37:35.348763718Z"
    }
   },
   "id": "5b7fe6cc241f2a08",
   "execution_count": 31
  },
  {
   "cell_type": "code",
   "outputs": [
    {
     "data": {
      "text/plain": "array([2, 5])"
     },
     "execution_count": 32,
     "metadata": {},
     "output_type": "execute_result"
    }
   ],
   "source": [
    "x[::2]"
   ],
   "metadata": {
    "collapsed": false,
    "ExecuteTime": {
     "end_time": "2024-01-19T16:37:41.720021982Z",
     "start_time": "2024-01-19T16:37:41.715397012Z"
    }
   },
   "id": "42a909040be2b299",
   "execution_count": 32
  },
  {
   "cell_type": "code",
   "outputs": [
    {
     "data": {
      "text/plain": "array([2, 5, 7, 2])"
     },
     "execution_count": 33,
     "metadata": {},
     "output_type": "execute_result"
    }
   ],
   "source": [
    "x[::-1]"
   ],
   "metadata": {
    "collapsed": false,
    "ExecuteTime": {
     "end_time": "2024-01-19T16:37:46.345871775Z",
     "start_time": "2024-01-19T16:37:46.338597679Z"
    }
   },
   "id": "3fec08723e2bd67e",
   "execution_count": 33
  },
  {
   "cell_type": "code",
   "outputs": [
    {
     "data": {
      "text/plain": "array([ 2, 10,  5,  2])"
     },
     "execution_count": 35,
     "metadata": {},
     "output_type": "execute_result"
    }
   ],
   "source": [
    "x[1] = 10\n",
    "x"
   ],
   "metadata": {
    "collapsed": false,
    "ExecuteTime": {
     "end_time": "2024-01-19T16:37:55.010524431Z",
     "start_time": "2024-01-19T16:37:55.002336505Z"
    }
   },
   "id": "85f9e88bc0569a4d",
   "execution_count": 35
  }
 ],
 "metadata": {
  "kernelspec": {
   "display_name": "Python 3",
   "language": "python",
   "name": "python3"
  },
  "language_info": {
   "codemirror_mode": {
    "name": "ipython",
    "version": 2
   },
   "file_extension": ".py",
   "mimetype": "text/x-python",
   "name": "python",
   "nbconvert_exporter": "python",
   "pygments_lexer": "ipython2",
   "version": "2.7.6"
  }
 },
 "nbformat": 4,
 "nbformat_minor": 5
}
