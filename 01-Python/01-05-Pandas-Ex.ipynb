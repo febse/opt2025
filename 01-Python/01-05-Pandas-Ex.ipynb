{
 "cells": [
  {
   "cell_type": "markdown",
   "source": [
    "# Übung zu Pandas\n",
    "\n",
    "Für den Zweck der Buchhaltung in einem Unternehmen soll ein DataFrame erstellt werden, welches die folgenden Spalten enthält:\n",
    "\n",
    "- Position: Die Position im Unternehmen\n",
    "- Arbeitszeit: Die Arbeitszeit pro Woche\n",
    "- Lohn: Der wöchentliche Lohn in Euro\n",
    "\n",
    "Die Werte für die Position sollen aus der folgenden Liste entnommen werden:\n",
    "\n",
    "```python\n",
    "Position: ['CEO', 'CFO', 'CTO', 'CIO', 'COO', 'CDO', 'CMO', 'CRO', 'CSO', 'CPO']\n",
    "Arbeitszeit: [40, 40, 20, 40, 20, 40, 10, 40, 40, 60]\n",
    "Gehalt: [10000, 8500, 2000, 3022, 1039, 2500, 3000, 1800, 20000, 10000]\n",
    "```"
   ],
   "metadata": {
    "collapsed": false
   },
   "id": "ff10030235bf8516"
  },
  {
   "cell_type": "code",
   "outputs": [],
   "source": [],
   "metadata": {
    "collapsed": false
   },
   "id": "e1e35a5b4bb24006"
  },
  {
   "cell_type": "markdown",
   "source": [
    "\n",
    "# Aufgabe 1\n",
    "\n",
    "- Nennen Sie den DataFrame `df` und geben Sie ihn aus.\n",
    "- Geben Sie die Spalte `Position` aus.\n",
    "- Geben Sie die ersten 3 Zeilen des DataFrames aus.\n",
    "- Geben Sie die letzten 3 Zeilen des DataFrames aus.\n",
    "- Geben Sie die ersten 3 Zeilen der Spalte `Position` aus.\n",
    "- Geben Sie die letzten 3 Zeilen der Spalte `Position` aus.\n",
    "- Geben Sie die ersten 3 Zeilen der Spalten `Position` und `Gehalt` aus.\n"
   ],
   "metadata": {
    "collapsed": false
   },
   "id": "466856ba72c8ab76"
  },
  {
   "cell_type": "code",
   "execution_count": null,
   "id": "initial_id",
   "metadata": {
    "collapsed": true
   },
   "outputs": [],
   "source": []
  },
  {
   "cell_type": "markdown",
   "source": [
    "# Aufgabe 2\n",
    "\n",
    "- Berechnen Sie den durchschnittlichen Gehalt im Unternehmen.\n",
    "- Berechnen Sie den Stundenlohn für jede Personen im Unternehmen.\n",
    "- Berechnen Sie den durchschnittlichen Stundenlohn im Unternehmen.\n",
    "- Berechnen Sie den durchschnittlichen Stundenlohn für jede Position im Unternehmen.\n",
    "- Finden Sie den niedrigsten Stundenlohn im Unternehmen.\n",
    "- Finden Sie die Position mit dem niedrigsten Stundenlohn im Unternehmen.\n",
    "- Finden Sie den höchsten Stundenlohn im Unternehmen."
   ],
   "metadata": {
    "collapsed": false
   },
   "id": "8526f2c22897f133"
  }
 ],
 "metadata": {
  "kernelspec": {
   "display_name": "Python 3",
   "language": "python",
   "name": "python3"
  },
  "language_info": {
   "codemirror_mode": {
    "name": "ipython",
    "version": 2
   },
   "file_extension": ".py",
   "mimetype": "text/x-python",
   "name": "python",
   "nbconvert_exporter": "python",
   "pygments_lexer": "ipython2",
   "version": "2.7.6"
  }
 },
 "nbformat": 4,
 "nbformat_minor": 5
}
