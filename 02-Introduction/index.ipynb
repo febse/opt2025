{
 "cells": [
  {
   "cell_type": "markdown",
   "id": "f5054f9ab6df9935",
   "metadata": {
    "collapsed": false
   },
   "source": [
    "# Въведение\n",
    "\n",
    "## Игра на бурито\n",
    "\n",
    "[https://www.gurobi.com/burrito-optimization-game/](https://www.gurobi.com/burrito-optimization-game/)\n",
    "\n",
    "\n",
    "## Берлинският въздушен мост\n",
    "\n",
    "След края на Втората световна война Германия е разделена на четири окупационни\n",
    "зони: Американска, Британска, Френска и Съветска. Берлин също така е разделен на\n",
    "четири зони, но достъпът до него по суша и по вода минава изцяло през територията на Съветската окупационна зона.\n",
    "\n",
    "\n",
    "![Окупационни зони в Германия след Втората световна война. Източник: Wikipedia.](https://upload.wikimedia.org/wikipedia/commons/thumb/a/a8/Deutschland_Besatzungszonen_8_Jun_1947_-_22_Apr_1949.svg/800px-Deutschland_Besatzungszonen_8_Jun_1947_-_22_Apr_1949.svg.png)\n",
    "\n",
    "На 24-ти юни 1948 Съветският Съюз\n",
    "[блокира](https://en.wikipedia.org/wiki/Berlin_Blockade) достъпа до Западен\n",
    "Берлин, с което започва една от най-значимите конфронтации по време на \n",
    "Студената война. Без достъп по суша или вода, западните съюзници започват да \n",
    "снабдяват града по въздух (Берлински въздушен мост).\n",
    "\n",
    "![Разтоварване на сол (река Хавел). Източник: Wikipedia.](https://upload.wikimedia.org/wikipedia/commons/1/10/Sunderland_201_Sqn_on_Havel_during_Berlin_Airlift_1948.jpg)\n",
    "\n",
    "![Приземяване на C-54 (Летище Темпелхоф). Източник: Wikipedia.](https://upload.wikimedia.org/wikipedia/commons/d/d8/C-54landingattemplehof.jpg)\n",
    "\n",
    "## Описание на проблема\n",
    "\n",
    "За по-просто нека да приемем, че доставките до Берлин се извършват с \n",
    "два вида самолети: американски, които могат да поемат до 30 000 кубични фута товар ($\\approx 849 m^3$),\n",
    "и британски самолети с капацитет до 20 000 кубични фута ($\\approx 566 m^3$).\n",
    "\n",
    "Поради ограничения в инфраструктурата на ден могат да летят най-много 48 самолета\n",
    "(независимо от кой вид).\n",
    "\n",
    "За всеки полет на американски самолет има нужда от \n",
    "16 души персонал, двойно повече от броя нужен за британските самолети. \n",
    "Общо на разположение са 512 души на ден.\n",
    "\n",
    "\n",
    "Разходите за гориво и поддръжка на самолетите възлизат на 9000 долара за полет\n",
    "на американски самолет и на 5000 долара за полет на британски самолет.\n",
    "Поради бюджетни ограничения общите разходи не могат да надхвърлят 300 000\n",
    "долара.\n",
    "\n",
    "Колко британски и колко американски самолети да използва на ден въздушният мост,\n",
    "така че да достави до Берлин възможно най-голямо количество стоки?\n",
    "\n",
    "\n",
    "## Математически модел\n",
    "\n",
    ":::{.callout-note collapse=\"true\"}\n",
    "## Избор на променливи\n",
    "\n",
    "$$\n",
    "\\begin{align*}\n",
    "& x_A: \\text{ брой американски самолети}\\\\\n",
    "& x_B: \\text{ брой британски самолети}\n",
    "\\end{align*}\n",
    "$$\n",
    ":::\n",
    "\n",
    ":::{.callout-note collapse=\"true\"}\n",
    "## Целева функция\n",
    "\n",
    "Общ товар, който $x_A$ американски самолети и $x_B$ британски самолети могат да доставят:\n",
    "\n",
    "$$\n",
    "z(x_A, x_B) = 3 x_A + 2 x_B\n",
    "$$\n",
    "\n",
    ":::\n",
    "\n",
    ":::{.callout-note collapse=\"true\"}\n",
    "## Ограничения\n",
    "\n",
    "$$\n",
    "\\begin{align*}\n",
    "& x_A + x_B \\leq 48 & \\text{ (инфраструктура)} \\\\\n",
    "& 16 x_A + 8 x_B \\leq 512 & \\text{ (персонал)} \\\\\n",
    "& 9 x_A + 5 x_B \\leq 300 & \\text{ (бюджет)} \\\\\n",
    "& x_A  \\geq 0 & \\text{ (брой американски самолети)} \\\\\n",
    "& x_B \\geq 0 & \\text{ (брой британски самолети)}\n",
    "\\end{align*}\n",
    "$$\n",
    ":::\n",
    "\n",
    ":::{.callout-note collapse=\"true\"}\n",
    "## Цялата задача\n",
    "\n",
    "$$\n",
    "\\begin{align*}\n",
    "& \\max z(x_A, x_B) = 3 x_A + 2 x_B \\\\\n",
    "& \\text{при условията:} \\\\\n",
    "& x_A + x_B \\leq 48 \\\\\n",
    "& 16 x_A + 8 x_B \\leq 512 \\\\\n",
    "& 9 x_A + 5 x_B \\leq 300 \\\\\n",
    "& x_A  \\geq 0 \\\\\n",
    "& x_B \\geq 0\n",
    "\\end{align*}\n",
    "$$\n",
    "\n",
    ":::\n",
    "\n",
    "\n",
    "Преди да решим задачата, нека да я решим неформално в опростен вариант, като игнорираме второто и третото ограничение:\n",
    "\n",
    "\n",
    "$$\n",
    "\\begin{align*}\n",
    "\\max 3 x_A + 2 x_B \\\\\n",
    "x_A + x_B \\leq 48 \\\\\n",
    "x_A \\geq 0 \\\\\n",
    "x_B \\geq 0\n",
    "\\end{align*}\n",
    "$$\n",
    "\n",
    "Решение: \n",
    "\n",
    "$$\n",
    "(x^*_1 = 48, x^*_2 = 0)\n",
    "$$\n",
    "\n",
    "## Допустимо множество\n",
    "\n",
    "За да решим задачата (и с трите ограничения) първо ще представим допустимото множество графично, като за целта ще начертаем правите към всяко от петте ограничения (включително ограниченията за неотрицателност). За да можем да начертаем правите са ни нужни по две точки от всяка права. Най-лесно можем да намерим пресечните им точки с двете оси ($x_A$ и $x_B$).\n",
    "\n",
    "За всички точки на оста $x_B$ е изпълнено, че $x_A = 0$. Когато заместим с $x_A = 0$  в уравнението на всяка от правите ще намерим пресечните им точки с оста $x_B$. За всички точки от оста $x_A$ важи, че $x_B = 0$, така че когато заместим с $x_B = 0$ в уравненията на правите ще получим пресечните им точки с оста $x_A$.\n",
    "\n",
    "\n",
    "Права на първото ограничение (инфраструктура):\n",
    "\n",
    "$$\n",
    "x_A + x_B = 48\n",
    "$$\n",
    "\n",
    "За да намерим пресечните точки на правата (инфраструктура) с двете оси:\n",
    "\n",
    "- При $x_A = 0$ на колко е равно $x_B$? $0 + x_B = 48$\n",
    "- При $x_B = 0$ на колко е равно $x_A$? $x_A + 0 = 48$\n",
    "\n",
    "За да намерим пресечните точки на втората права (персонал) с двете оси:\n",
    "\n",
    "$$\n",
    "16 x_A + 8 x_B = 512\n",
    "$$\n",
    "\n",
    "- При $x_A = 0$ на колко е равно $x_B$? $16 \\cdot 0 + 8x_B = 512 \\implies x_B = 512 / 8 = 64$\n",
    "- При $x_B = 0$ на колко е равно $x_A$? $16 x_A +8 \\cdot 0 = 512 \\implies x_A = 512 / 16 = 32$\n",
    "\n",
    "\n",
    "По същия начин можем да намерим и две точки от правата на третото ограничение (бюджет): \n",
    "(0, 300 / 5) и (300 / 9, 0)."
   ]
  },
  {
   "cell_type": "code",
   "execution_count": 11,
   "id": "927b7083",
   "metadata": {},
   "outputs": [
    {
     "data": {
      "text/plain": [
       "<matplotlib.legend.Legend at 0x739955328f50>"
      ]
     },
     "execution_count": 11,
     "metadata": {},
     "output_type": "execute_result"
    },
    {
     "data": {
      "image/png": "[encoded data removed]",
      "text/plain": [
       "<Figure size 640x480 with 1 Axes>"
      ]
     },
     "metadata": {},
     "output_type": "display_data"
    }
   ],
   "source": [
    "import matplotlib.pyplot as plt\n",
    "\n",
    "fig, ax = plt.subplots()\n",
    "\n",
    "ax.plot([0, 48], [48, 0], label=r'$x_A + x_B = 48$ Инфрасруктура')\n",
    "ax.plot([0, 32], [64, 0], label=r'$16 x_A + 8 x_B = 512$ Персонал')\n",
    "ax.plot([0, 33.33], [60, 0], label=r'$9 x_A + 5 x_B = 300$ Бюджет')\n",
    "\n",
    "ax.legend(loc=0)\n"
   ]
  },
  {
   "cell_type": "code",
   "execution_count": 2,
   "id": "initial_id",
   "metadata": {
    "ExecuteTime": {
     "end_time": "2024-01-22T21:22:16.553405813Z",
     "start_time": "2024-01-22T21:22:16.236304076Z"
    },
    "collapsed": true
   },
   "outputs": [
    {
     "name": "stderr",
     "output_type": "stream",
     "text": [
      "`polytope` failed to import `cvxopt.glpk`.\n",
      "will use `scipy.optimize.linprog`\n"
     ]
    },
    {
     "data": {
      "text/plain": [
       "array([[32., -0.],\n",
       "       [20., 24.],\n",
       "       [15., 33.],\n",
       "       [-0., 48.],\n",
       "       [-0., -0.]])"
      ]
     },
     "execution_count": 2,
     "metadata": {},
     "output_type": "execute_result"
    }
   ],
   "source": [
    "import polytope as pc\n",
    "import numpy as np\n",
    "\n",
    "A = np.array([[1, 1], [16, 8], [9, 5], [-1, 0], [0, -1]])\n",
    "b = np.array([48, 512, 300, 0, 0])\n",
    "\n",
    "P = pc.Polytope(A, b)\n",
    "P_extr = pc.extreme(P)\n",
    "\n",
    "P_extr"
   ]
  },
  {
   "cell_type": "markdown",
   "id": "646a53d197e48342",
   "metadata": {
    "collapsed": false
   },
   "source": [
    "Допустимото множество се състои от всички точки в полигона (0, 0), (32, 0), (20, 24), (15, 33), (0, 48). Изчислението на пресечните точки (20, 24) и (15, 33)."
   ]
  },
  {
   "cell_type": "code",
   "execution_count": 3,
   "id": "32ea0aef43589b4e",
   "metadata": {
    "collapsed": false
   },
   "outputs": [
    {
     "data": {
      "image/png": "[encoded data removed]",
      "text/plain": [
       "<Figure size 640x480 with 1 Axes>"
      ]
     },
     "metadata": {},
     "output_type": "display_data"
    }
   ],
   "source": [
    "from matplotlib import pyplot as plt\n",
    "\n",
    "plt.plot(P_extr[:, 0], P_extr[:, 1], '-o')\n",
    "\n",
    "for i, p in enumerate(P_extr):\n",
    "    plt.text(p[0], p[1], f\"({p[0]:0.1f}, {p[1]:0.1f})\")\n"
   ]
  },
  {
   "cell_type": "code",
   "execution_count": null,
   "id": "dcf3824008f58b10",
   "metadata": {
    "collapsed": false
   },
   "outputs": [
    {
     "name": "stdout",
     "output_type": "stream",
     "text": [
      "z(0, 0) =  0\n",
      "z(32, 0) =  96\n",
      "z(20, 24) =  108\n",
      "z(15, 33) =  111\n",
      "z(0, 48) =  96\n"
     ]
    }
   ],
   "source": [
    "def z(xA, xB):\n",
    "    return 3 * xA + 2 * xB\n",
    "\n",
    "# (0, 0)\n",
    "print(\"z(0, 0) = \", z(0, 0))\n",
    "\n",
    "# (32, 0)\n",
    "print(\"z(32, 0) = \", z(32, 0))\n",
    "\n",
    "# (20, 24)\n",
    "print(\"z(20, 24) = \", z(20, 24))\n",
    "\n",
    "# (15, 33)\n",
    "print(\"z(15, 33) = \", z(15, 33))\n",
    "\n",
    "# (0, 48)\n",
    "print(\"z(0, 48) = \", z(0, 48))"
   ]
  },
  {
   "cell_type": "markdown",
   "id": "28e2818713b5a0f",
   "metadata": {
    "collapsed": false
   },
   "source": [
    "Оптималната комбинация от американски и британски самолети е \n",
    "$(x^*_A = 15, x^*_B = 33)$. Това е възможно най-големият товар, който могат да пренесат самолетите при дадените ограничения. \n",
    "Този товар е равен на $30000 $x^*_{A} + 20000 x^*_{B} = 30000 \\cdot 15 + 20000 \\cdot 33 = 1 110 000$ кубични фута, използвайки 15 американски и 33 британски самолета.\n",
    "\n",
    "## Проблем с настоящия подход\n",
    "\n",
    "В момента решихме задачата, като изчислихме върховете на допустимото множество и пресметнахме целевата функция във всеки от тях. Решението на максимизационната задача беше върхът с най-висока стойност на целевата функция.\n",
    "\n",
    "За съжаление този подход е приложим само за много малки задачи и няма практическа стойност. Причината за това е, че броят на върховете на допустимото множество нараства много бързо с увеличаване на броя на ограниченията и променливите. Горна граница за броя на върховете на допустимото множество е дадена от биномния коефициент:\n",
    "\n",
    " $$\n",
    " \\binom{n}{k} = \\frac{n!}{k!(n-k)!}\n",
    " $$\n",
    "\n",
    " където $n$ е броят на променливите, а $k$ е броят на ограниченията. Можем да пресметнем горната граница за броя на върховете на допустимото за различни комбинации на $n$ и $k$:"
   ]
  },
  {
   "cell_type": "code",
   "execution_count": 5,
   "id": "b219328f77a8df6f",
   "metadata": {
    "collapsed": false
   },
   "outputs": [
    {
     "name": "stdout",
     "output_type": "stream",
     "text": [
      "n = 20, k = 15, Максимален брой върхове = 15,504\n",
      "n = 40, k = 25, Максимален брой върхове = 40,225,345,056\n",
      "n = 50, k = 25, Максимален брой върхове = 126,410,606,437,752\n"
     ]
    }
   ],
   "source": [
    "from scipy.special import comb\n",
    "\n",
    "print(f\"n = 20, k = 15, Максимален брой върхове = {comb(20, 15):,.0f}\")\n",
    "print(f\"n = 40, k = 25, Максимален брой върхове = {comb(40, 25):,.0f}\")\n",
    "print(f\"n = 50, k = 25, Максимален брой върхове = {comb(50, 25):,.0f}\")"
   ]
  },
  {
   "cell_type": "markdown",
   "id": "57abe7ba9230f529",
   "metadata": {
    "collapsed": false
   },
   "source": [
    "Изчисляването на целевата функция за всички върхове е непостижимо дори за модерни компютри. Ако приемем, че компютърът може да обработи 1 милиард върха на секунда, за 80 променливи и 40 ограничения ще му трябва много време:"
   ]
  },
  {
   "cell_type": "code",
   "execution_count": 9,
   "id": "2712991ebc5be91a",
   "metadata": {
    "collapsed": false
   },
   "outputs": [
    {
     "name": "stdout",
     "output_type": "stream",
     "text": [
      "1,836,017 години\n"
     ]
    }
   ],
   "source": [
    "comb_n = comb(80, 45)\n",
    "years = comb_n / (1e9 * 60 * 60 * 24 * 365)\n",
    "print(f\"{years:,.0f} години\")"
   ]
  },
  {
   "cell_type": "markdown",
   "id": "aeb42068",
   "metadata": {},
   "source": [
    "## Решение на модела в Excel\n",
    "\n",
    "[Решение на модела в Excel](https://github.com/febse/data/raw/main/opt/Berlin-Air-Example.xlsx)"
   ]
  },
  {
   "cell_type": "markdown",
   "id": "219e0a29c9a858",
   "metadata": {
    "collapsed": false
   },
   "source": [
    "## Решение на модела с gurobipy\n"
   ]
  },
  {
   "cell_type": "code",
   "execution_count": 10,
   "id": "f1e1f795ca3d09b1",
   "metadata": {
    "collapsed": false
   },
   "outputs": [
    {
     "name": "stdout",
     "output_type": "stream",
     "text": [
      "Restricted license - for non-production use only - expires 2026-11-23\n",
      "Set parameter LogToConsole to value 0\n",
      "Максимален обем:  1110000.0 кубични фута\n",
      "Използвайки комбинация от:\n"
     ]
    },
    {
     "data": {
      "application/vnd.microsoft.datawrangler.viewer.v0+json": {
       "columns": [
        {
         "name": "index",
         "rawType": "int64",
         "type": "integer"
        },
        {
         "name": "Променлива",
         "rawType": "object",
         "type": "string"
        },
        {
         "name": "Стойност",
         "rawType": "float64",
         "type": "float"
        }
       ],
       "conversionMethod": "pd.DataFrame",
       "ref": "11ad422a-0bd0-432d-bf36-a77e1f2ae562",
       "rows": [
        [
         "0",
         "американски самолети",
         "15.0"
        ],
        [
         "1",
         "британски самолети",
         "33.0"
        ]
       ],
       "shape": {
        "columns": 2,
        "rows": 2
       }
      },
      "text/html": [
       "<div>\n",
       "<style scoped>\n",
       "    .dataframe tbody tr th:only-of-type {\n",
       "        vertical-align: middle;\n",
       "    }\n",
       "\n",
       "    .dataframe tbody tr th {\n",
       "        vertical-align: top;\n",
       "    }\n",
       "\n",
       "    .dataframe thead th {\n",
       "        text-align: right;\n",
       "    }\n",
       "</style>\n",
       "<table border=\"1\" class=\"dataframe\">\n",
       "  <thead>\n",
       "    <tr style=\"text-align: right;\">\n",
       "      <th></th>\n",
       "      <th>Променлива</th>\n",
       "      <th>Стойност</th>\n",
       "    </tr>\n",
       "  </thead>\n",
       "  <tbody>\n",
       "    <tr>\n",
       "      <th>0</th>\n",
       "      <td>американски самолети</td>\n",
       "      <td>15.0</td>\n",
       "    </tr>\n",
       "    <tr>\n",
       "      <th>1</th>\n",
       "      <td>британски самолети</td>\n",
       "      <td>33.0</td>\n",
       "    </tr>\n",
       "  </tbody>\n",
       "</table>\n",
       "</div>"
      ],
      "text/plain": [
       "             Променлива  Стойност\n",
       "0  американски самолети      15.0\n",
       "1    британски самолети      33.0"
      ]
     },
     "execution_count": 10,
     "metadata": {},
     "output_type": "execute_result"
    }
   ],
   "source": [
    "import gurobipy as gp\n",
    "from gurobipy import GRB\n",
    "import pandas as pd\n",
    "\n",
    "# Съставяне на нов модел\n",
    "\n",
    "m = gp.Model(\"Berlin Airlift\")\n",
    "m.Params.LogToConsole = 0\n",
    "\n",
    "xA = m.addVar(vtype=GRB.INTEGER, lb = 0, name=\"американски самолети\")\n",
    "xB = m.addVar(vtype=GRB.INTEGER, lb = 0, name=\"британски самолети\")\n",
    "\n",
    "# Целева функция\n",
    "\n",
    "m.setObjective(3 * xA + 2 * xB, GRB.MAXIMIZE)\n",
    "\n",
    "# Добавяне на ограниченията\n",
    "\n",
    "m.addConstr(xA + xB <= 48, \"Infrastructure\")\n",
    "m.addConstr(16 * xA + 8 * xB <= 512, \"Staff\")\n",
    "m.addConstr(9 * xA + 5 * xB <= 300, \"Budget\")\n",
    "\n",
    "# Неотрицателността на променливите е автоматично дефинирана в m.addVar\n",
    "\n",
    "# Решаване на модела\n",
    "m.optimize()\n",
    "\n",
    "print(\"Максимален обем: \", 1e4 * m.objVal, \"кубични фута\")\n",
    "\n",
    "print(\"Използвайки комбинация от:\")\n",
    "\n",
    "# Отпечатване на резултата в таблица\n",
    "\n",
    "df = pd.DataFrame(columns=[\"Променлива\", \"Стойност\"])\n",
    "for v in m.getVars():\n",
    "    df.loc[len(df)] = [v.varName, v.x]\n",
    "\n",
    "df"
   ]
  }
 ],
 "metadata": {
  "kernelspec": {
   "display_name": "opt2025",
   "language": "python",
   "name": "python3"
  },
  "language_info": {
   "codemirror_mode": {
    "name": "ipython",
    "version": 3
   },
   "file_extension": ".py",
   "mimetype": "text/x-python",
   "name": "python",
   "nbconvert_exporter": "python",
   "pygments_lexer": "ipython3",
   "version": "3.11.11"
  }
 },
 "nbformat": 4,
 "nbformat_minor": 5
}
