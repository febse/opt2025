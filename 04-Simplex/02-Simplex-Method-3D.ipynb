{
 "cells": [
  {
   "cell_type": "markdown",
   "metadata": {},
   "source": [
    "# Симплекс алгоритъм с три променливи\n",
    "\n",
    "Нека да разширим примера с производството на бира, като добавим и нов продукт - безалкохолна бира и да добавим още един ресурс - вода.\n",
    "\n",
    "$$\n",
    "\\begin{align*}  \n",
    "& x_1: \\text{ светла бира (л.)}\\\\\n",
    "& x_2: \\text{ тъмна бира (л.)} \\\\\n",
    "& x_3: \\text{ безалкохолна бира (л.)} \\\\\n",
    "\\end{align*}\n",
    "$$\n",
    "\n",
    "$$\n",
    "\\begin{align*}\n",
    "\\max & \\quad z(x) = 3x_1 + 2x_2 + x_3\\\\\n",
    "\\text{s.t.} \\quad & x_1 + 2x_2 + x_3 \\leq 20 \\text{ Хмел}\\\\\n",
    "\\quad & 2x_1 + x_2 + 3x_3 \\leq 30 \\text{ Малц}\\\\\n",
    "\\quad & x_1 + x_2 + x_3 \\leq 25 \\text{ Вода}\\\\\n",
    "\\quad & x_1, x_2, x_3 \\geq 0\\\\\n",
    "\\end{align*}\n",
    "$$\n",
    "\n",
    "Стандартната форма на задачата е:\n",
    "\n",
    "$$\n",
    "\\begin{align*}\n",
    "\\max & \\quad z(x) = 3x_1 + 2x_2 + x_3\\\\\n",
    "\\text{s.t.} \\quad & x_1 + 2x_2 + 1x_3 + s_1 = 20 \\text{ Хмел}\\\\\n",
    "\\quad & 2x_1 + x_2 + 3x_3 + s_2 = 30 \\text{ Малц}\\\\\n",
    "\\quad & x_1 + x_2 + x_3 + s_3 = 25 \\text{ Вода}\\\\\n",
    "\\quad & x_1, x_2, x_3, s_1, s_2, s_3 \\geq 0\\\\\n",
    "\\end{align*}\n",
    "$$\n"
   ]
  },
  {
   "cell_type": "code",
   "execution_count": 1,
   "metadata": {},
   "outputs": [
    {
     "name": "stdout",
     "output_type": "stream",
     "text": [
      "Note: you may need to restart the kernel to use updated packages.\n"
     ]
    }
   ],
   "source": [
    "# Gurobi \n",
    "%pip install gurobipy --quiet\n",
    "\n",
    "# Import the Gurobi library\n",
    "import gurobipy as gp\n",
    "from gurobipy import GRB\n",
    "import numpy as np\n"
   ]
  },
  {
   "cell_type": "code",
   "execution_count": 2,
   "metadata": {},
   "outputs": [
    {
     "name": "stdout",
     "output_type": "stream",
     "text": [
      "Restricted license - for non-production use only - expires 2026-11-23\n"
     ]
    },
    {
     "name": "stdout",
     "output_type": "stream",
     "text": [
      "Set parameter LogToConsole to value 0\n"
     ]
    },
    {
     "name": "stdout",
     "output_type": "stream",
     "text": [
      "\\ Model Beer 2\n",
      "\\ LP format - for model browsing. Use MPS format to capture full model detail.\n",
      "Maximize\n",
      "  3 x[0] + 2 x[1] + x[2]\n",
      "Subject To\n",
      " c0[0]: x[0] + 2 x[1] + x[2] <= 20\n",
      " c0[1]: 2 x[0] + x[1] + 3 x[2] <= 30\n",
      " c0[2]: x[0] + x[1] + x[2] <= 25\n",
      "Bounds\n",
      "End\n",
      "\n"
     ]
    }
   ],
   "source": [
    "# Create a new model\n",
    "\n",
    "m = gp.Model(\"Beer 2\")\n",
    "m.Params.LogToConsole = 0\n",
    "\n",
    "# Create variables\n",
    "x = m.addMVar(3, name=\"x\")\n",
    "c = np.array([3, 2, 1])\n",
    "c_coeffs = np.array([\n",
    "    [1, 2, 1],\n",
    "    [2, 1, 3],\n",
    "    [1, 1, 1],\n",
    "])\n",
    "b = np.array([20, 30, 25])\n",
    "\n",
    "# Objective function\n",
    "m.setObjective(c @ x, GRB.MAXIMIZE)\n",
    "\n",
    "# Constraints\n",
    "m.addConstr(c_coeffs @ x <= b, name=\"c0\")\n",
    "\n",
    "m.write(\"beer.lp\")\n",
    "\n",
    "with open(\"beer.lp\") as f:\n",
    "    print(f.read())\n",
    "\n",
    "m.optimize()"
   ]
  },
  {
   "cell_type": "code",
   "execution_count": 3,
   "metadata": {},
   "outputs": [
    {
     "name": "stderr",
     "output_type": "stream",
     "text": [
      "`polytope` failed to import `cvxopt.glpk`.\n"
     ]
    },
    {
     "name": "stderr",
     "output_type": "stream",
     "text": [
      "will use `scipy.optimize.linprog`\n"
     ]
    }
   ],
   "source": [
    "A = m.getA()\n",
    "# print(A.toarray())\n",
    "A_full = np.concatenate((A.toarray(), -np.identity(A.shape[1])), axis=0)\n",
    "\n",
    "b_full = np.concatenate([b, np.zeros(A.shape[1])], axis=0)\n",
    "\n",
    "import polytope as pc\n",
    "\n",
    "P = pc.Polytope(A_full, b_full)\n",
    "vertices = pc.extreme(P)\n",
    "# print(vertices)\n"
   ]
  },
  {
   "cell_type": "code",
   "execution_count": 4,
   "metadata": {},
   "outputs": [
    {
     "data": {
      "text/html": [
       "        <script type=\"text/javascript\">\n",
       "        window.PlotlyConfig = {MathJaxConfig: 'local'};\n",
       "        if (window.MathJax && window.MathJax.Hub && window.MathJax.Hub.Config) {window.MathJax.Hub.Config({SVG: {font: \"STIX-Web\"}});}\n",
       "        if (typeof require !== 'undefined') {\n",
       "        require.undef(\"plotly\");\n",
       "        requirejs.config({\n",
       "            paths: {\n",
       "                'plotly': ['https://cdn.plot.ly/plotly-2.35.2.min']\n",
       "            }\n",
       "        });\n",
       "        require(['plotly'], function(Plotly) {\n",
       "            window._Plotly = Plotly;\n",
       "        });\n",
       "        }\n",
       "        </script>\n",
       "        "
      ]
     },
     "metadata": {},
     "output_type": "display_data"
    },
    {
     "data": {
      "text/html": [
       "<div>                            <div id=\"83003949-b1d1-43a0-803e-1435949769a0\" class=\"plotly-graph-div\" style=\"height:800px; width:800px;\"></div>            <script type=\"text/javascript\">                require([\"plotly\"], function(Plotly) {                    window.PLOTLYENV=window.PLOTLYENV || {};                                    if (document.getElementById(\"83003949-b1d1-43a0-803e-1435949769a0\")) {                    Plotly.newPlot(                        \"83003949-b1d1-43a0-803e-1435949769a0\",                        [{\"marker\":{\"color\":\"blue\",\"opacity\":1,\"size\":5},\"mode\":\"markers\",\"x\":[15.000000000000004,-4.440892098500626e-16,0.0,13.333333333333336,-4.440892098500626e-16,-4.440892098500626e-16],\"y\":[-4.440892098500626e-16,0.0,0.0,3.333333333333334,6.000000000000002,9.999999999999998],\"z\":[-4.440892098500626e-16,9.999999999999998,-4.440892098500626e-16,-8.881784197001252e-16,7.999999999999997,8.881784197001252e-16],\"type\":\"scatter3d\"},{\"color\":\"lightblue\",\"opacity\":0.7,\"x\":[0.0,15.000000000000004,-4.440892098500626e-16],\"y\":[0.0,-4.440892098500626e-16,0.0],\"z\":[-4.440892098500626e-16,-4.440892098500626e-16,9.999999999999998],\"type\":\"mesh3d\"},{\"color\":\"lightblue\",\"opacity\":0.7,\"x\":[-4.440892098500626e-16,13.333333333333336,-4.440892098500626e-16],\"y\":[6.000000000000002,3.333333333333334,9.999999999999998],\"z\":[7.999999999999997,-8.881784197001252e-16,8.881784197001252e-16],\"type\":\"mesh3d\"},{\"color\":\"lightblue\",\"opacity\":0.7,\"x\":[0.0,13.333333333333336,-4.440892098500626e-16],\"y\":[0.0,3.333333333333334,9.999999999999998],\"z\":[-4.440892098500626e-16,-8.881784197001252e-16,8.881784197001252e-16],\"type\":\"mesh3d\"},{\"color\":\"lightblue\",\"opacity\":0.7,\"x\":[0.0,13.333333333333336,15.000000000000004],\"y\":[0.0,3.333333333333334,-4.440892098500626e-16],\"z\":[-4.440892098500626e-16,-8.881784197001252e-16,-4.440892098500626e-16],\"type\":\"mesh3d\"},{\"color\":\"lightblue\",\"opacity\":0.7,\"x\":[-4.440892098500626e-16,0.0,-4.440892098500626e-16],\"y\":[6.000000000000002,0.0,9.999999999999998],\"z\":[7.999999999999997,-4.440892098500626e-16,8.881784197001252e-16],\"type\":\"mesh3d\"},{\"color\":\"lightblue\",\"opacity\":0.7,\"x\":[-4.440892098500626e-16,0.0,-4.440892098500626e-16],\"y\":[6.000000000000002,0.0,0.0],\"z\":[7.999999999999997,-4.440892098500626e-16,9.999999999999998],\"type\":\"mesh3d\"},{\"color\":\"lightblue\",\"opacity\":0.7,\"x\":[-4.440892098500626e-16,13.333333333333336,15.000000000000004],\"y\":[6.000000000000002,3.333333333333334,-4.440892098500626e-16],\"z\":[7.999999999999997,-8.881784197001252e-16,-4.440892098500626e-16],\"type\":\"mesh3d\"},{\"color\":\"lightblue\",\"opacity\":0.7,\"x\":[-4.440892098500626e-16,15.000000000000004,-4.440892098500626e-16],\"y\":[6.000000000000002,-4.440892098500626e-16,0.0],\"z\":[7.999999999999997,-4.440892098500626e-16,9.999999999999998],\"type\":\"mesh3d\"}],                        {\"template\":{\"data\":{\"histogram2dcontour\":[{\"type\":\"histogram2dcontour\",\"colorbar\":{\"outlinewidth\":0,\"ticks\":\"\"},\"colorscale\":[[0.0,\"#0d0887\"],[0.1111111111111111,\"#46039f\"],[0.2222222222222222,\"#7201a8\"],[0.3333333333333333,\"#9c179e\"],[0.4444444444444444,\"#bd3786\"],[0.5555555555555556,\"#d8576b\"],[0.6666666666666666,\"#ed7953\"],[0.7777777777777778,\"#fb9f3a\"],[0.8888888888888888,\"#fdca26\"],[1.0,\"#f0f921\"]]}],\"choropleth\":[{\"type\":\"choropleth\",\"colorbar\":{\"outlinewidth\":0,\"ticks\":\"\"}}],\"histogram2d\":[{\"type\":\"histogram2d\",\"colorbar\":{\"outlinewidth\":0,\"ticks\":\"\"},\"colorscale\":[[0.0,\"#0d0887\"],[0.1111111111111111,\"#46039f\"],[0.2222222222222222,\"#7201a8\"],[0.3333333333333333,\"#9c179e\"],[0.4444444444444444,\"#bd3786\"],[0.5555555555555556,\"#d8576b\"],[0.6666666666666666,\"#ed7953\"],[0.7777777777777778,\"#fb9f3a\"],[0.8888888888888888,\"#fdca26\"],[1.0,\"#f0f921\"]]}],\"heatmap\":[{\"type\":\"heatmap\",\"colorbar\":{\"outlinewidth\":0,\"ticks\":\"\"},\"colorscale\":[[0.0,\"#0d0887\"],[0.1111111111111111,\"#46039f\"],[0.2222222222222222,\"#7201a8\"],[0.3333333333333333,\"#9c179e\"],[0.4444444444444444,\"#bd3786\"],[0.5555555555555556,\"#d8576b\"],[0.6666666666666666,\"#ed7953\"],[0.7777777777777778,\"#fb9f3a\"],[0.8888888888888888,\"#fdca26\"],[1.0,\"#f0f921\"]]}],\"heatmapgl\":[{\"type\":\"heatmapgl\",\"colorbar\":{\"outlinewidth\":0,\"ticks\":\"\"},\"colorscale\":[[0.0,\"#0d0887\"],[0.1111111111111111,\"#46039f\"],[0.2222222222222222,\"#7201a8\"],[0.3333333333333333,\"#9c179e\"],[0.4444444444444444,\"#bd3786\"],[0.5555555555555556,\"#d8576b\"],[0.6666666666666666,\"#ed7953\"],[0.7777777777777778,\"#fb9f3a\"],[0.8888888888888888,\"#fdca26\"],[1.0,\"#f0f921\"]]}],\"contourcarpet\":[{\"type\":\"contourcarpet\",\"colorbar\":{\"outlinewidth\":0,\"ticks\":\"\"}}],\"contour\":[{\"type\":\"contour\",\"colorbar\":{\"outlinewidth\":0,\"ticks\":\"\"},\"colorscale\":[[0.0,\"#0d0887\"],[0.1111111111111111,\"#46039f\"],[0.2222222222222222,\"#7201a8\"],[0.3333333333333333,\"#9c179e\"],[0.4444444444444444,\"#bd3786\"],[0.5555555555555556,\"#d8576b\"],[0.6666666666666666,\"#ed7953\"],[0.7777777777777778,\"#fb9f3a\"],[0.8888888888888888,\"#fdca26\"],[1.0,\"#f0f921\"]]}],\"surface\":[{\"type\":\"surface\",\"colorbar\":{\"outlinewidth\":0,\"ticks\":\"\"},\"colorscale\":[[0.0,\"#0d0887\"],[0.1111111111111111,\"#46039f\"],[0.2222222222222222,\"#7201a8\"],[0.3333333333333333,\"#9c179e\"],[0.4444444444444444,\"#bd3786\"],[0.5555555555555556,\"#d8576b\"],[0.6666666666666666,\"#ed7953\"],[0.7777777777777778,\"#fb9f3a\"],[0.8888888888888888,\"#fdca26\"],[1.0,\"#f0f921\"]]}],\"mesh3d\":[{\"type\":\"mesh3d\",\"colorbar\":{\"outlinewidth\":0,\"ticks\":\"\"}}],\"scatter\":[{\"fillpattern\":{\"fillmode\":\"overlay\",\"size\":10,\"solidity\":0.2},\"type\":\"scatter\"}],\"parcoords\":[{\"type\":\"parcoords\",\"line\":{\"colorbar\":{\"outlinewidth\":0,\"ticks\":\"\"}}}],\"scatterpolargl\":[{\"type\":\"scatterpolargl\",\"marker\":{\"colorbar\":{\"outlinewidth\":0,\"ticks\":\"\"}}}],\"bar\":[{\"error_x\":{\"color\":\"#2a3f5f\"},\"error_y\":{\"color\":\"#2a3f5f\"},\"marker\":{\"line\":{\"color\":\"#E5ECF6\",\"width\":0.5},\"pattern\":{\"fillmode\":\"overlay\",\"size\":10,\"solidity\":0.2}},\"type\":\"bar\"}],\"scattergeo\":[{\"type\":\"scattergeo\",\"marker\":{\"colorbar\":{\"outlinewidth\":0,\"ticks\":\"\"}}}],\"scatterpolar\":[{\"type\":\"scatterpolar\",\"marker\":{\"colorbar\":{\"outlinewidth\":0,\"ticks\":\"\"}}}],\"histogram\":[{\"marker\":{\"pattern\":{\"fillmode\":\"overlay\",\"size\":10,\"solidity\":0.2}},\"type\":\"histogram\"}],\"scattergl\":[{\"type\":\"scattergl\",\"marker\":{\"colorbar\":{\"outlinewidth\":0,\"ticks\":\"\"}}}],\"scatter3d\":[{\"type\":\"scatter3d\",\"line\":{\"colorbar\":{\"outlinewidth\":0,\"ticks\":\"\"}},\"marker\":{\"colorbar\":{\"outlinewidth\":0,\"ticks\":\"\"}}}],\"scattermapbox\":[{\"type\":\"scattermapbox\",\"marker\":{\"colorbar\":{\"outlinewidth\":0,\"ticks\":\"\"}}}],\"scatterternary\":[{\"type\":\"scatterternary\",\"marker\":{\"colorbar\":{\"outlinewidth\":0,\"ticks\":\"\"}}}],\"scattercarpet\":[{\"type\":\"scattercarpet\",\"marker\":{\"colorbar\":{\"outlinewidth\":0,\"ticks\":\"\"}}}],\"carpet\":[{\"aaxis\":{\"endlinecolor\":\"#2a3f5f\",\"gridcolor\":\"white\",\"linecolor\":\"white\",\"minorgridcolor\":\"white\",\"startlinecolor\":\"#2a3f5f\"},\"baxis\":{\"endlinecolor\":\"#2a3f5f\",\"gridcolor\":\"white\",\"linecolor\":\"white\",\"minorgridcolor\":\"white\",\"startlinecolor\":\"#2a3f5f\"},\"type\":\"carpet\"}],\"table\":[{\"cells\":{\"fill\":{\"color\":\"#EBF0F8\"},\"line\":{\"color\":\"white\"}},\"header\":{\"fill\":{\"color\":\"#C8D4E3\"},\"line\":{\"color\":\"white\"}},\"type\":\"table\"}],\"barpolar\":[{\"marker\":{\"line\":{\"color\":\"#E5ECF6\",\"width\":0.5},\"pattern\":{\"fillmode\":\"overlay\",\"size\":10,\"solidity\":0.2}},\"type\":\"barpolar\"}],\"pie\":[{\"automargin\":true,\"type\":\"pie\"}]},\"layout\":{\"autotypenumbers\":\"strict\",\"colorway\":[\"#636efa\",\"#EF553B\",\"#00cc96\",\"#ab63fa\",\"#FFA15A\",\"#19d3f3\",\"#FF6692\",\"#B6E880\",\"#FF97FF\",\"#FECB52\"],\"font\":{\"color\":\"#2a3f5f\"},\"hovermode\":\"closest\",\"hoverlabel\":{\"align\":\"left\"},\"paper_bgcolor\":\"white\",\"plot_bgcolor\":\"#E5ECF6\",\"polar\":{\"bgcolor\":\"#E5ECF6\",\"angularaxis\":{\"gridcolor\":\"white\",\"linecolor\":\"white\",\"ticks\":\"\"},\"radialaxis\":{\"gridcolor\":\"white\",\"linecolor\":\"white\",\"ticks\":\"\"}},\"ternary\":{\"bgcolor\":\"#E5ECF6\",\"aaxis\":{\"gridcolor\":\"white\",\"linecolor\":\"white\",\"ticks\":\"\"},\"baxis\":{\"gridcolor\":\"white\",\"linecolor\":\"white\",\"ticks\":\"\"},\"caxis\":{\"gridcolor\":\"white\",\"linecolor\":\"white\",\"ticks\":\"\"}},\"coloraxis\":{\"colorbar\":{\"outlinewidth\":0,\"ticks\":\"\"}},\"colorscale\":{\"sequential\":[[0.0,\"#0d0887\"],[0.1111111111111111,\"#46039f\"],[0.2222222222222222,\"#7201a8\"],[0.3333333333333333,\"#9c179e\"],[0.4444444444444444,\"#bd3786\"],[0.5555555555555556,\"#d8576b\"],[0.6666666666666666,\"#ed7953\"],[0.7777777777777778,\"#fb9f3a\"],[0.8888888888888888,\"#fdca26\"],[1.0,\"#f0f921\"]],\"sequentialminus\":[[0.0,\"#0d0887\"],[0.1111111111111111,\"#46039f\"],[0.2222222222222222,\"#7201a8\"],[0.3333333333333333,\"#9c179e\"],[0.4444444444444444,\"#bd3786\"],[0.5555555555555556,\"#d8576b\"],[0.6666666666666666,\"#ed7953\"],[0.7777777777777778,\"#fb9f3a\"],[0.8888888888888888,\"#fdca26\"],[1.0,\"#f0f921\"]],\"diverging\":[[0,\"#8e0152\"],[0.1,\"#c51b7d\"],[0.2,\"#de77ae\"],[0.3,\"#f1b6da\"],[0.4,\"#fde0ef\"],[0.5,\"#f7f7f7\"],[0.6,\"#e6f5d0\"],[0.7,\"#b8e186\"],[0.8,\"#7fbc41\"],[0.9,\"#4d9221\"],[1,\"#276419\"]]},\"xaxis\":{\"gridcolor\":\"white\",\"linecolor\":\"white\",\"ticks\":\"\",\"title\":{\"standoff\":15},\"zerolinecolor\":\"white\",\"automargin\":true,\"zerolinewidth\":2},\"yaxis\":{\"gridcolor\":\"white\",\"linecolor\":\"white\",\"ticks\":\"\",\"title\":{\"standoff\":15},\"zerolinecolor\":\"white\",\"automargin\":true,\"zerolinewidth\":2},\"scene\":{\"xaxis\":{\"backgroundcolor\":\"#E5ECF6\",\"gridcolor\":\"white\",\"linecolor\":\"white\",\"showbackground\":true,\"ticks\":\"\",\"zerolinecolor\":\"white\",\"gridwidth\":2},\"yaxis\":{\"backgroundcolor\":\"#E5ECF6\",\"gridcolor\":\"white\",\"linecolor\":\"white\",\"showbackground\":true,\"ticks\":\"\",\"zerolinecolor\":\"white\",\"gridwidth\":2},\"zaxis\":{\"backgroundcolor\":\"#E5ECF6\",\"gridcolor\":\"white\",\"linecolor\":\"white\",\"showbackground\":true,\"ticks\":\"\",\"zerolinecolor\":\"white\",\"gridwidth\":2}},\"shapedefaults\":{\"line\":{\"color\":\"#2a3f5f\"}},\"annotationdefaults\":{\"arrowcolor\":\"#2a3f5f\",\"arrowhead\":0,\"arrowwidth\":1},\"geo\":{\"bgcolor\":\"white\",\"landcolor\":\"#E5ECF6\",\"subunitcolor\":\"white\",\"showland\":true,\"showlakes\":true,\"lakecolor\":\"white\"},\"title\":{\"x\":0.05},\"mapbox\":{\"style\":\"light\"},\"margin\":{\"b\":0,\"l\":0,\"r\":0,\"t\":30}}},\"scene\":{\"xaxis\":{\"title\":{\"text\":\"x1 (\\u0441\\u0432\\u0435\\u0442\\u043b\\u0430 \\u0431\\u0438\\u0440\\u0430)\"},\"nticks\":4,\"range\":[-0.3,20]},\"yaxis\":{\"nticks\":4,\"range\":[-0.3,20],\"title\":{\"text\":\"x2 (\\u0442\\u044a\\u043c\\u043d\\u0430 \\u0431\\u0438\\u0440\\u0430)\"}},\"zaxis\":{\"nticks\":4,\"range\":[-0.3,20],\"title\":{\"text\":\"x3 (\\u0431\\u0435\\u0437\\u0430\\u043b\\u043a\\u043e\\u0445\\u043e\\u043b\\u043d\\u0430 \\u0431\\u0438\\u0440\\u0430)\"}}},\"title\":{\"text\":\"\\u0414\\u043e\\u043f\\u0443\\u0441\\u0442\\u0438\\u043c\\u043e \\u043c\\u043d\\u043e\\u0436\\u0435\\u0441\\u0442\\u0432\\u043e\"},\"width\":800,\"height\":800},                        {\"responsive\": true}                    ).then(function(){\n",
       "                            \n",
       "var gd = document.getElementById('83003949-b1d1-43a0-803e-1435949769a0');\n",
       "var x = new MutationObserver(function (mutations, observer) {{\n",
       "        var display = window.getComputedStyle(gd).display;\n",
       "        if (!display || display === 'none') {{\n",
       "            console.log([gd, 'removed!']);\n",
       "            Plotly.purge(gd);\n",
       "            observer.disconnect();\n",
       "        }}\n",
       "}});\n",
       "\n",
       "// Listen for the removal of the full notebook cells\n",
       "var notebookContainer = gd.closest('#notebook-container');\n",
       "if (notebookContainer) {{\n",
       "    x.observe(notebookContainer, {childList: true});\n",
       "}}\n",
       "\n",
       "// Listen for the clearing of the current output cell\n",
       "var outputEl = gd.closest('.output');\n",
       "if (outputEl) {{\n",
       "    x.observe(outputEl, {childList: true});\n",
       "}}\n",
       "\n",
       "                        })                };                });            </script>        </div>"
      ]
     },
     "metadata": {},
     "output_type": "display_data"
    }
   ],
   "source": [
    "import plotly.graph_objects as go\n",
    "\n",
    "# Plot the feasible region in 3D\n",
    "# The feasible region is defined by the vertices of the polytope\n",
    "\n",
    "fig = go.Figure(data=[\n",
    "    go.Scatter3d(\n",
    "        x=vertices[:, 0],\n",
    "        y=vertices[:, 1],\n",
    "        z=vertices[:, 2],\n",
    "        mode='markers',\n",
    "        marker=dict(size=5, color='blue', opacity=1),\n",
    "    )\n",
    "])\n",
    "\n",
    "# Plot the constraint planes\n",
    "\n",
    "x1_values = np.linspace(-2, 10, 100)\n",
    "x2_values = np.linspace(-2, 10, 100)\n",
    "x1_grid, x2_grid = np.meshgrid(x1_values, x2_values)\n",
    "\n",
    "# for i in range(A.shape[0]):\n",
    "#     Z = (b[i] - A[i, 0] * x1_grid - A[i, 1] * x2_grid) / A[i, 2]  \n",
    "#     fig.add_trace(go.Surface(\n",
    "#         x=x1_grid,\n",
    "#         y=x2_grid,\n",
    "#         z=Z,\n",
    "#         opacity=0.2,\n",
    "#         name=f'Constraint {i+1}',\n",
    "#     ))\n",
    "\n",
    "# Mesh the vertices to create a 3D surface\n",
    "\n",
    "from scipy.spatial import ConvexHull\n",
    "hull = ConvexHull(vertices)\n",
    "\n",
    "for simplex in hull.simplices:\n",
    "    fig.add_trace(go.Mesh3d(\n",
    "        x=vertices[simplex, 0],\n",
    "        y=vertices[simplex, 1],\n",
    "        z=vertices[simplex, 2],\n",
    "        color='lightblue',\n",
    "        opacity=0.7,\n",
    "    ))\n",
    "\n",
    "fig.update_layout(\n",
    "    title='Допустимо множество',\n",
    "    scene=dict(\n",
    "        xaxis_title='x1 (светла бира)',\n",
    "        xaxis=dict(nticks=4, range=[-0.3, 20]),\n",
    "        yaxis=dict(nticks=4, range=[-0.3, 20]),\n",
    "        zaxis=dict(nticks=4, range=[-0.3, 20]),\n",
    "        yaxis_title='x2 (тъмна бира)',\n",
    "        zaxis_title='x3 (безалкохолна бира)',\n",
    "    ),\n",
    "    width=800,\n",
    "    height=800,\n",
    ")\n",
    "\n",
    "fig.show()"
   ]
  },
  {
   "cell_type": "markdown",
   "metadata": {},
   "source": [
    "<!-- | Iteration-0   |       | $C_j$   | 3     | 2     | 1     | 0     | 0     | 0     |       |\n",
    "|---------------|-------|-------------|-------|-------|-------|-------|-------|-------|-------|\n",
    "| B         | $C_B$ | $X_B$ | $x_1$ | $x_2$ | $x_3$ | $s_1$ | $s_2$ | $s_3$ | MinRatio |\n",
    "| $s_1$     | 0     | 20          | 1     | 2     | 1     | 1     | 0     | 0     | $\\frac{20}{1} = 20$ |\n",
    "| $s_2$     | 0     | 30          | 2     | 1     | 3     | 0     | 1     | 0     | $\\frac{30}{2} = 15$ |\n",
    "| $s_3$     | 0     | 25          | 1     | 1     | 1     | 0     | 0     | 1     | $\\frac{25}{1} = 25$ |\n",
    "| $Z = 0$ |       | $Z_j$   | 0     | 0     | 0     | 0     | 0     | 0     |       |\n",
    "|               |       | $Z_j - C_j$ | -3    | -2    | -1    | 0     | 0     | 0     |       |\n",
    "\n",
    "| Итерация-1   |       | $C_j$   | 3     | 2     | 1     | 0     | 0     | 0     |       |\n",
    "|---------------|-------|-------------|-------|-------|-------|-------|-------|-------|-------|\n",
    "| B         | $C_B$ | $X_B$ | $x_1$ | $x_2$ | $x_3$ | $s_1$ | $s_2$ | $s_3$ | MinRatio |\n",
    "| $s_1$     | 0     | 5          | 0     | 1.5     | -0.5     | 1     | -0.5     | 0     | 3.333 |\n",
    "| $x_1$     | 3     | 15          | 1     | 0.5    | 1.5     | 0     | 0.5     | 0     | 30 |\n",
    "| $s_3$     | 0     | 10          | 0     | 0.5     | -0.5     | 0     | -0.5     | 1     | 20 |\n",
    "| $Z = 45$ |       | $Z_j$   | 3     | 1.5     | 4.5     | 0     | 1.5     | 0     |       |\n",
    "|               |       | $Z_j - C_j$ | -0.5    | 3.5    | 0    | 1.5     | 0     | 0     |       |\n",
    "\n",
    "| Итерация-2   |       | $C_j$   | 3     | 2     | 1     | 0     | 0     | 0     |       |\n",
    "|---------------|-------|-------------|-------|-------|-------|-------|-------|-------|-------|\n",
    "| B         | $C_B$ | $X_B$ | $x_1$ | $x_2$ | $x_3$ | $s_1$ | $s_2$ | $s_3$ | MinRatio |\n",
    "| $x_2$     | 2     | 3.3          | 0     | 1     | -0.33     | 0.66     | -0.33     | 0     | 3.333 |\n",
    "| $x_1$     | 3     | 13.3          | 1     | 0    | 1.66     | -0.33     | 0.66     | 0     | 30 |\n",
    "| $s_3$     | 0     | 8.3          | 0     | 0     | -0.33     | -0.33     | -0.33     | 1     | 20 |\n",
    "| $Z = 46.66$ |       | $Z_j$   | 3     | 2     | 4.33     | 0.33     | 1.33     | 0     |       |\n",
    "|               |       | $Z_j - C_j$ | 0    | 0    | 0    | 1.5     | 0     | 0     |       |\n",
    "\n",
    " -->\n"
   ]
  },
  {
   "cell_type": "markdown",
   "metadata": {},
   "source": [
    "\n",
    "| Итерация-0   |       | $C_j$   |     |     |     |     |     |     |       |\n",
    "|---------------|-------|-------------|-------|-------|-------|-------|-------|-------|-------|\n",
    "| B         | $C_B$ | $X_B$ | $x_1$ | $x_2$ | $x_3$ | $s_1$ | $s_2$ | $s_3$ | MinRatio |\n",
    "| $s_1$     |     |          |     |     |     |     |     |     |  |\n",
    "| $s_2$     |     |          |     |     |     |     |     |     |  |\n",
    "| $s_3$     |     |          |     |     |     |     |     |     |  |\n",
    "| $Z =$ |       | $Z_j$   |     |     |     |     |     |     |       |\n",
    "|               |       | $Z_j - C_j$ |     |     |     |     |     |     |       |\n",
    "\n",
    "\n",
    "Трансформация :\n",
    "\n",
    "- (2) <- (2) / 2\n",
    "- (1) <- (1) - (2) \n",
    "- (3) <- (3) - (2)\n",
    "\n",
    "| Итерация-1   |       | $C_j$   |     |     |     |     |     |     |       |\n",
    "|---------------|-------|-------------|-------|-------|-------|-------|-------|-------|-------|\n",
    "| B         | $C_B$ | $X_B$ | $x_1$ | $x_2$ | $x_3$ | $s_1$ | $s_2$ | $s_3$ | MinRatio |\n",
    "| $s_1$     |     |          |     |     |      |     |      |     | |\n",
    "| $x_1$     |     |          |     |    |     |     |     |     | |\n",
    "| $s_3$     |     |          |     |     |      |     |      |     | |\n",
    "| $Z =$ |       | $Z_j$   |     |     |     |     |     |     |       |\n",
    "|               |       | $Z_j - C_j$ |     |    |    |     |     |     |       |\n",
    "\n",
    "Трансформация :\n",
    "\n",
    "- (1) <- (1) / 1.5\n",
    "- (2) <- (2) - 0.5 (1) \n",
    "- (3) <- (3) - 0.5 (1)\n",
    "\n",
    "| Итерация-2   |       | $C_j$   |     |     |     |     |     |     |       |\n",
    "|---------------|-------|-------------|-------|-------|-------|-------|-------|-------|-------|\n",
    "| B         | $C_B$ | $X_B$ | $x_1$ | $x_2$ | $x_3$ | $s_1$ | $s_2$ | $s_3$ | MinRatio |\n",
    "| $x_2$     |     |          |     |     |      |     |      |     | |\n",
    "| $x_1$     |     |          |     |    |     |      |     |     | |\n",
    "| $s_3$     |     |          |     |     |      |      |      |     | |\n",
    "| $Z = $ |       | $Z_j$   |     |     |     |     |     |     |       |\n",
    "|               |       | $Z_j - C_j$ |    |    |    |     |     |     |       |\n",
    "\n"
   ]
  }
 ],
 "metadata": {
  "kernelspec": {
   "display_name": "Python 3",
   "language": "python",
   "name": "python3"
  },
  "language_info": {
   "codemirror_mode": {
    "name": "ipython",
    "version": 3
   },
   "file_extension": ".py",
   "mimetype": "text/x-python",
   "name": "python",
   "nbconvert_exporter": "python",
   "pygments_lexer": "ipython3",
   "version": "3.11.11"
  }
 },
 "nbformat": 4,
 "nbformat_minor": 2
}
