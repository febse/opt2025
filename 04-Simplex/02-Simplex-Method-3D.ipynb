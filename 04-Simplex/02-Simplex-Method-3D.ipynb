{
 "cells": [
  {
   "cell_type": "markdown",
   "metadata": {},
   "source": [
    "# Симплекс алгоритъм с три променливи\n",
    "\n",
    "Нека да разширим примера с производството на бира, като добавим и нов продукт - безалкохолна бира и да добавим още един ресурс - вода.\n",
    "\n",
    "$$\n",
    "\\begin{align*}  \n",
    "& x_1: \\text{ светла бира (л.)}\\\\\n",
    "& x_2: \\text{ тъмна бира (л.)} \\\\\n",
    "& x_3: \\text{ безалкохолна бира (л.)} \\\\\n",
    "\\end{align*}\n",
    "$$\n",
    "\n",
    "$$\n",
    "\\begin{align*}\n",
    "\\max & \\quad z(x) = 3x_1 + 2x_2 + x_3\\\\\n",
    "\\text{s.t.} \\quad & x_1 + 2x_2 + x_3 \\leq 20 \\text{ Хмел}\\\\\n",
    "\\quad & 2x_1 + x_2 + 3x_3 \\leq 30 \\text{ Малц}\\\\\n",
    "\\quad & x_1 + x_2 + x_3 \\leq 25 \\text{ Вода}\\\\\n",
    "\\quad & x_1, x_2, x_3 \\geq 0\\\\\n",
    "\\end{align*}\n",
    "$$\n",
    "\n",
    "Стандартната форма на задачата е:\n",
    "\n",
    "$$\n",
    "\\begin{align*}\n",
    "\\max & \\quad z(x) = 3x_1 + 2x_2 + x_3\\\\\n",
    "\\text{s.t.} \\quad & x_1 + 2x_2 + 1x_3 + s_1 = 20 \\text{ Хмел}\\\\\n",
    "\\quad & 2x_1 + x_2 + 3x_3 + s_2 = 30 \\text{ Малц}\\\\\n",
    "\\quad & x_1 + x_2 + x_3 + s_3 = 25 \\text{ Вода}\\\\\n",
    "\\quad & x_1, x_2, x_3, s_1, s_2, s_3 \\geq 0\\\\\n",
    "\\end{align*}\n",
    "$$\n"
   ]
  },
  {
   "cell_type": "markdown",
   "metadata": {},
   "source": [
    "## Обяснение на променливите в стандартната форма на задача\n",
    "\n",
    "В стандартната форма на задачата имаме количествата бири $x_1, x_2, x_3$ в литри. Това са променливите, които в крайна сметка искаме да определим така, че да максимизираме печалбата $z(x)$. В допълнение, имаме и три допълнителни променливи $s_1, s_2, s_3$, които показват колко от ресурсите (хмел, малц и вода) остават неизползвани след производството на бира. Стандартната форма на задачата можем да прочетем и така: \n",
    "\n",
    "Всяко едно от уравненията описва използването на трите ресурса и казва, че\n",
    "сборът от количеството използван хмел, малц и вода и количествата на неизползваните ресурси $s_1, s_2, s_3$ е равен на общото количество наличен ресурс.\n",
    "\n",
    "$$\n",
    "\\begin{align*}\n",
    "\\max & \\quad z(x) = 3x_1 + 2x_2 + x_3 \\text{Намери максимума на печалбата}\\\\\n",
    "\\text{s.t} & \\quad \\underset{\\text{Използван хмел}}{x_1 + 2x_2 + x_3} + \\underset{\\text{Неизползван хмел}}{s_1} = \\underset{\\text{Общо наличен хмел}}{20}\\\\\n",
    "\\quad & \\underset{\\text{Използван малц}}{2x_1 + x_2 + 3x_3} + \\underset{\\text{Неизползван малц}}{s_2} = \\underset{\\text{Общо наличен малц}}{30}\\\\\n",
    "\\quad & \\underset{\\text{Използвана вода}}{x_1 + x_2 + x_3} + \\underset{\\text{Неизползвана вода}}{s_3} = \\underset{\\text{Общо налична вода}}{25}\\\\\n",
    "\\quad & x_1, x_2, x_3, s_1, s_2, s_3 \\geq 0\\\\\n",
    "\\end{align*}\n",
    "$$\n",
    "\n",
    "Например да кажем, че решим да произведем 10 литра светла бира, 5 литра тъмна бира и 5 литра безалкохолна бира, т.е. $x_1 = 2, x_2 = 4, x_3 = 3$. Тогава количествата на ресурсите, които ще използваме са:\n",
    "\n",
    "Първото уравнение ни казва, че един литър светла бира изразходва 1 единица хмел, един литър тъмна бира изразходва 2 единици хмел и един литър безалкохолна бира изразходва 1 единица хмел. Следователно, количеството хмел, което ще използваме е $2 + 2 \\cdot 4 + 3 = 2 + 8 + 3 = 13$. По същия начин, като заместим с числата в останалите уравнения, получаваме: \n",
    "\n",
    "$$\n",
    "\\begin{align*}\n",
    "\\underset{\\text{Използван хмел}}{2 + 2 \\cdot 4 + 3} + \\underset{\\text{Неизползван хмел}}{7} & = \\underset{\\text{Общо наличен хмел}}{20}\\\\\n",
    "\\underset{\\text{Използван малц}}{2 \\cdot 2 + 4 + 3\\cdot 3} + \\underset{\\text{Неизползван малц}}{13} & = \\underset{\\text{Общо наличен малц}}{30}\\\\\n",
    "\\underset{\\text{Използвана вода}}{2 + 4 + 3} + \\underset{\\text{Неизползвана вода}}{16} &= \\underset{\\text{Общо налична вода}}{25}\\\\\n",
    "\\end{align*}\n",
    "$$\n",
    "\n",
    "Не всички производствени планове са допустими. Например, ако решим да произведем 100 литра светла бира, 0 литра тъмна бира и 0 литра безалкохолна бира и заместим в уравненията, ще получим:\n",
    "\n",
    "$$\n",
    "\\begin{align*}\n",
    "\\underset{\\text{Използван хмел}}{100 + 2 \\cdot 0 + 0} + \\underset{\\text{Неизползван хмел}}{(-80)} & = \\underset{\\text{Общо наличен хмел}}{20}\\\\\n",
    "\\underset{\\text{Използван малц}}{2 \\cdot 100 + 0 + 3 \\cdot 0} + \\underset{\\text{Неизползван малц}}{(-170)} & = \\underset{\\text{Общо наличен малц}}{30}\\\\\n",
    "\\underset{\\text{Използвана вода}}{100 + 0 + 0} + \\underset{\\text{Неизползвана вода}}{(-75)} &= \\underset{\\text{Общо налична вода}}{25}\\\\\n",
    "\\end{align*}\n",
    "$$\n",
    "\n",
    "За да са изпълнени уравненията, трябва допълнителните променливи да станат отрицателни, което обаче не е позволено. Отрицателните стойности на променливите $s_1, s_2, s_3$ ни казват, че ако искаме наистина да произведем 100 литра светла бира, то ще трябва да си набавим допълнително 80 единици хмел, 170 единици малц и 75 единици вода. Дори и едно от тези условия да не е изпълнено, то нямаме достатъчно ресурси, за да изпълним плана (или с други думи казваме, че планът е недопустим).\n",
    "\n"
   ]
  },
  {
   "cell_type": "markdown",
   "metadata": {},
   "source": [
    "## Първоначален производствен план\n",
    "\n",
    "Симплекс алгоритъмът започва от _някакъв_ (произволен, но допустим) производствен план, който е връх на допустимото множество. В случая на тази задача е лесно да намерим такъв план, като фиксираме $x_1 = 0, x_2 = 0, x_3 = 0$ (т.е. никакво производство). Във @fig-feasible-3d този план е началото на координатната система (0, 0, 0). \n",
    "\n",
    "Този план очевидно не е оптимален, тъй като печалбата е равна на нула, но пък има предимството, че е лесен за намиране и от него симплекс алгоритъмът може да започне да работи.\n",
    "\n",
    "Като заместим с $x_1 = 0, x_2 = 0, x_3 = 0$ в уравненията ще получим:\n",
    "\n",
    "$$\n",
    "\\begin{align*}\n",
    "\\underset{\\text{Използван хмел}}{0 + 2 \\cdot 0 + 0} + \\underset{\\text{Неизползван хмел}}{20} & = \\underset{\\text{Общо наличен хмел}}{20}\\\\\n",
    "\\underset{\\text{Използван малц}}{2 \\cdot 0 + 0 + 3\\cdot 0} + \\underset{\\text{Неизползван малц}}{30} & = \\underset{\\text{Общо наличен малц}}{30}\\\\\n",
    "\\underset{\\text{Използвана вода}}{0 + 0 + 0} + \\underset{\\text{Неизползвана вода}}{25} &= \\underset{\\text{Общо налична вода}}{25}\\\\\n",
    "\\end{align*}\n",
    "$$\n",
    "\n",
    "или с други думи: $s_1 = 20, s_2=  0, s_3 = 0$\n"
   ]
  },
  {
   "cell_type": "code",
   "execution_count": 2,
   "metadata": {},
   "outputs": [
    {
     "name": "stdout",
     "output_type": "stream",
     "text": [
      "Note: you may need to restart the kernel to use updated packages.\n"
     ]
    }
   ],
   "source": [
    "# Gurobi \n",
    "%pip install gurobipy --quiet\n",
    "\n",
    "# Import the Gurobi library\n",
    "import gurobipy as gp\n",
    "from gurobipy import GRB\n",
    "import numpy as np\n"
   ]
  },
  {
   "cell_type": "code",
   "execution_count": null,
   "metadata": {},
   "outputs": [
    {
     "name": "stdout",
     "output_type": "stream",
     "text": [
      "Restricted license - for non-production use only - expires 2026-11-23\n",
      "Set parameter LogToConsole to value 0\n",
      "\\ Model Beer 2\n",
      "\\ LP format - for model browsing. Use MPS format to capture full model detail.\n",
      "Maximize\n",
      "  3 x[0] + 2 x[1] + x[2]\n",
      "Subject To\n",
      " c0[0]: x[0] + 2 x[1] + x[2] <= 20\n",
      " c0[1]: 2 x[0] + x[1] + 3 x[2] <= 30\n",
      " c0[2]: x[0] + x[1] + x[2] <= 25\n",
      "Bounds\n",
      "End\n",
      "\n"
     ]
    }
   ],
   "source": [
    "# Create a new model\n",
    "\n",
    "m = gp.Model(\"Beer 2\")\n",
    "m.Params.LogToConsole = 0\n",
    "\n",
    "# Create variables\n",
    "x = m.addMVar(3, name=\"x\")\n",
    "c = np.array([3, 2, 1])\n",
    "c_coeffs = np.array([\n",
    "    [1, 2, 1],\n",
    "    [2, 1, 3],\n",
    "    [1, 1, 1],\n",
    "])\n",
    "b = np.array([20, 30, 25])\n",
    "\n",
    "# Objective function\n",
    "m.setObjective(c @ x, GRB.MAXIMIZE)\n",
    "\n",
    "# Constraints\n",
    "m.addConstr(c_coeffs @ x <= b, name=\"c0\")\n",
    "\n",
    "m.write(\"beer.lp\")\n",
    "\n",
    "# with open(\"beer.lp\") as f:\n",
    "#     print(f.read())\n",
    "\n",
    "m.optimize()"
   ]
  },
  {
   "cell_type": "code",
   "execution_count": 4,
   "metadata": {},
   "outputs": [
    {
     "name": "stderr",
     "output_type": "stream",
     "text": [
      "`polytope` failed to import `cvxopt.glpk`.\n",
      "will use `scipy.optimize.linprog`\n"
     ]
    }
   ],
   "source": [
    "A = m.getA()\n",
    "# print(A.toarray())\n",
    "A_full = np.concatenate((A.toarray(), -np.identity(A.shape[1])), axis=0)\n",
    "\n",
    "b_full = np.concatenate([b, np.zeros(A.shape[1])], axis=0)\n",
    "\n",
    "import polytope as pc\n",
    "\n",
    "P = pc.Polytope(A_full, b_full)\n",
    "vertices = pc.extreme(P)\n",
    "# print(vertices)\n"
   ]
  },
  {
   "cell_type": "code",
   "execution_count": 23,
   "metadata": {},
   "outputs": [
    {
     "data": {
      "application/vnd.plotly.v1+json": {
       "config": {
        "plotlyServerURL": "https://plot.ly"
       },
       "data": [
        {
         "color": "lightblue",
         "opacity": 0.7,
         "type": "mesh3d",
         "x": [
          0,
          -4.440892098500626e-16,
          15
         ],
         "y": [
          -4.440892098500626e-16,
          -4.440892098500626e-16,
          0
         ],
         "z": [
          10,
          0,
          0
         ]
        },
        {
         "color": "lightblue",
         "opacity": 0.7,
         "type": "mesh3d",
         "x": [
          13.333333333333329,
          0,
          -4.440892098500626e-16
         ],
         "y": [
          3.3333333333333344,
          6,
          10
         ],
         "z": [
          0,
          7.999999999999999,
          0
         ]
        },
        {
         "color": "lightblue",
         "opacity": 0.7,
         "type": "mesh3d",
         "x": [
          0,
          0,
          -4.440892098500626e-16
         ],
         "y": [
          6,
          -4.440892098500626e-16,
          -4.440892098500626e-16
         ],
         "z": [
          7.999999999999999,
          10,
          0
         ]
        },
        {
         "color": "lightblue",
         "opacity": 0.7,
         "type": "mesh3d",
         "x": [
          0,
          -4.440892098500626e-16,
          -4.440892098500626e-16
         ],
         "y": [
          6,
          -4.440892098500626e-16,
          10
         ],
         "z": [
          7.999999999999999,
          0,
          0
         ]
        },
        {
         "color": "lightblue",
         "opacity": 0.7,
         "type": "mesh3d",
         "x": [
          13.333333333333329,
          -4.440892098500626e-16,
          -4.440892098500626e-16
         ],
         "y": [
          3.3333333333333344,
          -4.440892098500626e-16,
          10
         ],
         "z": [
          0,
          0,
          0
         ]
        },
        {
         "color": "lightblue",
         "opacity": 0.7,
         "type": "mesh3d",
         "x": [
          13.333333333333329,
          -4.440892098500626e-16,
          15
         ],
         "y": [
          3.3333333333333344,
          -4.440892098500626e-16,
          0
         ],
         "z": [
          0,
          0,
          0
         ]
        },
        {
         "color": "lightblue",
         "opacity": 0.7,
         "type": "mesh3d",
         "x": [
          13.333333333333329,
          0,
          0
         ],
         "y": [
          3.3333333333333344,
          6,
          -4.440892098500626e-16
         ],
         "z": [
          0,
          7.999999999999999,
          10
         ]
        },
        {
         "color": "lightblue",
         "opacity": 0.7,
         "type": "mesh3d",
         "x": [
          13.333333333333329,
          0,
          15
         ],
         "y": [
          3.3333333333333344,
          -4.440892098500626e-16,
          0
         ],
         "z": [
          0,
          10,
          0
         ]
        },
        {
         "marker": {
          "color": "blue",
          "opacity": 1,
          "size": 5
         },
         "mode": "markers+text",
         "name": "Връх 0",
         "text": [
          "(-0.0, 10.0, 0.0)"
         ],
         "textposition": "top center",
         "type": "scatter3d",
         "x": [
          -4.440892098500626e-16
         ],
         "y": [
          10
         ],
         "z": [
          0
         ]
        },
        {
         "marker": {
          "color": "blue",
          "opacity": 1,
          "size": 5
         },
         "mode": "markers+text",
         "name": "Връх 1",
         "text": [
          "(-0.0, -0.0, 0.0)"
         ],
         "textposition": "top center",
         "type": "scatter3d",
         "x": [
          -4.440892098500626e-16
         ],
         "y": [
          -4.440892098500626e-16
         ],
         "z": [
          0
         ]
        },
        {
         "marker": {
          "color": "blue",
          "opacity": 1,
          "size": 5
         },
         "mode": "markers+text",
         "name": "Връх 2",
         "text": [
          "(0.0, 6.0, 8.0)"
         ],
         "textposition": "top center",
         "type": "scatter3d",
         "x": [
          0
         ],
         "y": [
          6
         ],
         "z": [
          7.999999999999999
         ]
        },
        {
         "marker": {
          "color": "blue",
          "opacity": 1,
          "size": 5
         },
         "mode": "markers+text",
         "name": "Връх 3",
         "text": [
          "(0.0, -0.0, 10.0)"
         ],
         "textposition": "top center",
         "type": "scatter3d",
         "x": [
          0
         ],
         "y": [
          -4.440892098500626e-16
         ],
         "z": [
          10
         ]
        },
        {
         "marker": {
          "color": "blue",
          "opacity": 1,
          "size": 5
         },
         "mode": "markers+text",
         "name": "Връх 4",
         "text": [
          "(13.3, 3.3, 0.0)"
         ],
         "textposition": "top center",
         "type": "scatter3d",
         "x": [
          13.333333333333329
         ],
         "y": [
          3.3333333333333344
         ],
         "z": [
          0
         ]
        },
        {
         "marker": {
          "color": "blue",
          "opacity": 1,
          "size": 5
         },
         "mode": "markers+text",
         "name": "Връх 5",
         "text": [
          "(15.0, 0.0, 0.0)"
         ],
         "textposition": "top center",
         "type": "scatter3d",
         "x": [
          15
         ],
         "y": [
          0
         ],
         "z": [
          0
         ]
        }
       ],
       "layout": {
        "scene": {
         "xaxis": {
          "nticks": 4,
          "range": [
           -2,
           20
          ],
          "title": {
           "text": "x1 (светла бира)"
          }
         },
         "yaxis": {
          "nticks": 4,
          "range": [
           -2,
           20
          ],
          "title": {
           "text": "x2 (тъмна бира)"
          }
         },
         "zaxis": {
          "nticks": 4,
          "range": [
           -2,
           20
          ],
          "title": {
           "text": "x3 (безалкохолна бира)"
          }
         }
        },
        "template": {
         "data": {
          "bar": [
           {
            "error_x": {
             "color": "#2a3f5f"
            },
            "error_y": {
             "color": "#2a3f5f"
            },
            "marker": {
             "line": {
              "color": "#E5ECF6",
              "width": 0.5
             },
             "pattern": {
              "fillmode": "overlay",
              "size": 10,
              "solidity": 0.2
             }
            },
            "type": "bar"
           }
          ],
          "barpolar": [
           {
            "marker": {
             "line": {
              "color": "#E5ECF6",
              "width": 0.5
             },
             "pattern": {
              "fillmode": "overlay",
              "size": 10,
              "solidity": 0.2
             }
            },
            "type": "barpolar"
           }
          ],
          "carpet": [
           {
            "aaxis": {
             "endlinecolor": "#2a3f5f",
             "gridcolor": "white",
             "linecolor": "white",
             "minorgridcolor": "white",
             "startlinecolor": "#2a3f5f"
            },
            "baxis": {
             "endlinecolor": "#2a3f5f",
             "gridcolor": "white",
             "linecolor": "white",
             "minorgridcolor": "white",
             "startlinecolor": "#2a3f5f"
            },
            "type": "carpet"
           }
          ],
          "choropleth": [
           {
            "colorbar": {
             "outlinewidth": 0,
             "ticks": ""
            },
            "type": "choropleth"
           }
          ],
          "contour": [
           {
            "colorbar": {
             "outlinewidth": 0,
             "ticks": ""
            },
            "colorscale": [
             [
              0,
              "#0d0887"
             ],
             [
              0.1111111111111111,
              "#46039f"
             ],
             [
              0.2222222222222222,
              "#7201a8"
             ],
             [
              0.3333333333333333,
              "#9c179e"
             ],
             [
              0.4444444444444444,
              "#bd3786"
             ],
             [
              0.5555555555555556,
              "#d8576b"
             ],
             [
              0.6666666666666666,
              "#ed7953"
             ],
             [
              0.7777777777777778,
              "#fb9f3a"
             ],
             [
              0.8888888888888888,
              "#fdca26"
             ],
             [
              1,
              "#f0f921"
             ]
            ],
            "type": "contour"
           }
          ],
          "contourcarpet": [
           {
            "colorbar": {
             "outlinewidth": 0,
             "ticks": ""
            },
            "type": "contourcarpet"
           }
          ],
          "heatmap": [
           {
            "colorbar": {
             "outlinewidth": 0,
             "ticks": ""
            },
            "colorscale": [
             [
              0,
              "#0d0887"
             ],
             [
              0.1111111111111111,
              "#46039f"
             ],
             [
              0.2222222222222222,
              "#7201a8"
             ],
             [
              0.3333333333333333,
              "#9c179e"
             ],
             [
              0.4444444444444444,
              "#bd3786"
             ],
             [
              0.5555555555555556,
              "#d8576b"
             ],
             [
              0.6666666666666666,
              "#ed7953"
             ],
             [
              0.7777777777777778,
              "#fb9f3a"
             ],
             [
              0.8888888888888888,
              "#fdca26"
             ],
             [
              1,
              "#f0f921"
             ]
            ],
            "type": "heatmap"
           }
          ],
          "heatmapgl": [
           {
            "colorbar": {
             "outlinewidth": 0,
             "ticks": ""
            },
            "colorscale": [
             [
              0,
              "#0d0887"
             ],
             [
              0.1111111111111111,
              "#46039f"
             ],
             [
              0.2222222222222222,
              "#7201a8"
             ],
             [
              0.3333333333333333,
              "#9c179e"
             ],
             [
              0.4444444444444444,
              "#bd3786"
             ],
             [
              0.5555555555555556,
              "#d8576b"
             ],
             [
              0.6666666666666666,
              "#ed7953"
             ],
             [
              0.7777777777777778,
              "#fb9f3a"
             ],
             [
              0.8888888888888888,
              "#fdca26"
             ],
             [
              1,
              "#f0f921"
             ]
            ],
            "type": "heatmapgl"
           }
          ],
          "histogram": [
           {
            "marker": {
             "pattern": {
              "fillmode": "overlay",
              "size": 10,
              "solidity": 0.2
             }
            },
            "type": "histogram"
           }
          ],
          "histogram2d": [
           {
            "colorbar": {
             "outlinewidth": 0,
             "ticks": ""
            },
            "colorscale": [
             [
              0,
              "#0d0887"
             ],
             [
              0.1111111111111111,
              "#46039f"
             ],
             [
              0.2222222222222222,
              "#7201a8"
             ],
             [
              0.3333333333333333,
              "#9c179e"
             ],
             [
              0.4444444444444444,
              "#bd3786"
             ],
             [
              0.5555555555555556,
              "#d8576b"
             ],
             [
              0.6666666666666666,
              "#ed7953"
             ],
             [
              0.7777777777777778,
              "#fb9f3a"
             ],
             [
              0.8888888888888888,
              "#fdca26"
             ],
             [
              1,
              "#f0f921"
             ]
            ],
            "type": "histogram2d"
           }
          ],
          "histogram2dcontour": [
           {
            "colorbar": {
             "outlinewidth": 0,
             "ticks": ""
            },
            "colorscale": [
             [
              0,
              "#0d0887"
             ],
             [
              0.1111111111111111,
              "#46039f"
             ],
             [
              0.2222222222222222,
              "#7201a8"
             ],
             [
              0.3333333333333333,
              "#9c179e"
             ],
             [
              0.4444444444444444,
              "#bd3786"
             ],
             [
              0.5555555555555556,
              "#d8576b"
             ],
             [
              0.6666666666666666,
              "#ed7953"
             ],
             [
              0.7777777777777778,
              "#fb9f3a"
             ],
             [
              0.8888888888888888,
              "#fdca26"
             ],
             [
              1,
              "#f0f921"
             ]
            ],
            "type": "histogram2dcontour"
           }
          ],
          "mesh3d": [
           {
            "colorbar": {
             "outlinewidth": 0,
             "ticks": ""
            },
            "type": "mesh3d"
           }
          ],
          "parcoords": [
           {
            "line": {
             "colorbar": {
              "outlinewidth": 0,
              "ticks": ""
             }
            },
            "type": "parcoords"
           }
          ],
          "pie": [
           {
            "automargin": true,
            "type": "pie"
           }
          ],
          "scatter": [
           {
            "fillpattern": {
             "fillmode": "overlay",
             "size": 10,
             "solidity": 0.2
            },
            "type": "scatter"
           }
          ],
          "scatter3d": [
           {
            "line": {
             "colorbar": {
              "outlinewidth": 0,
              "ticks": ""
             }
            },
            "marker": {
             "colorbar": {
              "outlinewidth": 0,
              "ticks": ""
             }
            },
            "type": "scatter3d"
           }
          ],
          "scattercarpet": [
           {
            "marker": {
             "colorbar": {
              "outlinewidth": 0,
              "ticks": ""
             }
            },
            "type": "scattercarpet"
           }
          ],
          "scattergeo": [
           {
            "marker": {
             "colorbar": {
              "outlinewidth": 0,
              "ticks": ""
             }
            },
            "type": "scattergeo"
           }
          ],
          "scattergl": [
           {
            "marker": {
             "colorbar": {
              "outlinewidth": 0,
              "ticks": ""
             }
            },
            "type": "scattergl"
           }
          ],
          "scattermapbox": [
           {
            "marker": {
             "colorbar": {
              "outlinewidth": 0,
              "ticks": ""
             }
            },
            "type": "scattermapbox"
           }
          ],
          "scatterpolar": [
           {
            "marker": {
             "colorbar": {
              "outlinewidth": 0,
              "ticks": ""
             }
            },
            "type": "scatterpolar"
           }
          ],
          "scatterpolargl": [
           {
            "marker": {
             "colorbar": {
              "outlinewidth": 0,
              "ticks": ""
             }
            },
            "type": "scatterpolargl"
           }
          ],
          "scatterternary": [
           {
            "marker": {
             "colorbar": {
              "outlinewidth": 0,
              "ticks": ""
             }
            },
            "type": "scatterternary"
           }
          ],
          "surface": [
           {
            "colorbar": {
             "outlinewidth": 0,
             "ticks": ""
            },
            "colorscale": [
             [
              0,
              "#0d0887"
             ],
             [
              0.1111111111111111,
              "#46039f"
             ],
             [
              0.2222222222222222,
              "#7201a8"
             ],
             [
              0.3333333333333333,
              "#9c179e"
             ],
             [
              0.4444444444444444,
              "#bd3786"
             ],
             [
              0.5555555555555556,
              "#d8576b"
             ],
             [
              0.6666666666666666,
              "#ed7953"
             ],
             [
              0.7777777777777778,
              "#fb9f3a"
             ],
             [
              0.8888888888888888,
              "#fdca26"
             ],
             [
              1,
              "#f0f921"
             ]
            ],
            "type": "surface"
           }
          ],
          "table": [
           {
            "cells": {
             "fill": {
              "color": "#EBF0F8"
             },
             "line": {
              "color": "white"
             }
            },
            "header": {
             "fill": {
              "color": "#C8D4E3"
             },
             "line": {
              "color": "white"
             }
            },
            "type": "table"
           }
          ]
         },
         "layout": {
          "annotationdefaults": {
           "arrowcolor": "#2a3f5f",
           "arrowhead": 0,
           "arrowwidth": 1
          },
          "autotypenumbers": "strict",
          "coloraxis": {
           "colorbar": {
            "outlinewidth": 0,
            "ticks": ""
           }
          },
          "colorscale": {
           "diverging": [
            [
             0,
             "#8e0152"
            ],
            [
             0.1,
             "#c51b7d"
            ],
            [
             0.2,
             "#de77ae"
            ],
            [
             0.3,
             "#f1b6da"
            ],
            [
             0.4,
             "#fde0ef"
            ],
            [
             0.5,
             "#f7f7f7"
            ],
            [
             0.6,
             "#e6f5d0"
            ],
            [
             0.7,
             "#b8e186"
            ],
            [
             0.8,
             "#7fbc41"
            ],
            [
             0.9,
             "#4d9221"
            ],
            [
             1,
             "#276419"
            ]
           ],
           "sequential": [
            [
             0,
             "#0d0887"
            ],
            [
             0.1111111111111111,
             "#46039f"
            ],
            [
             0.2222222222222222,
             "#7201a8"
            ],
            [
             0.3333333333333333,
             "#9c179e"
            ],
            [
             0.4444444444444444,
             "#bd3786"
            ],
            [
             0.5555555555555556,
             "#d8576b"
            ],
            [
             0.6666666666666666,
             "#ed7953"
            ],
            [
             0.7777777777777778,
             "#fb9f3a"
            ],
            [
             0.8888888888888888,
             "#fdca26"
            ],
            [
             1,
             "#f0f921"
            ]
           ],
           "sequentialminus": [
            [
             0,
             "#0d0887"
            ],
            [
             0.1111111111111111,
             "#46039f"
            ],
            [
             0.2222222222222222,
             "#7201a8"
            ],
            [
             0.3333333333333333,
             "#9c179e"
            ],
            [
             0.4444444444444444,
             "#bd3786"
            ],
            [
             0.5555555555555556,
             "#d8576b"
            ],
            [
             0.6666666666666666,
             "#ed7953"
            ],
            [
             0.7777777777777778,
             "#fb9f3a"
            ],
            [
             0.8888888888888888,
             "#fdca26"
            ],
            [
             1,
             "#f0f921"
            ]
           ]
          },
          "colorway": [
           "#636efa",
           "#EF553B",
           "#00cc96",
           "#ab63fa",
           "#FFA15A",
           "#19d3f3",
           "#FF6692",
           "#B6E880",
           "#FF97FF",
           "#FECB52"
          ],
          "font": {
           "color": "#2a3f5f"
          },
          "geo": {
           "bgcolor": "white",
           "lakecolor": "white",
           "landcolor": "#E5ECF6",
           "showlakes": true,
           "showland": true,
           "subunitcolor": "white"
          },
          "hoverlabel": {
           "align": "left"
          },
          "hovermode": "closest",
          "mapbox": {
           "style": "light"
          },
          "paper_bgcolor": "white",
          "plot_bgcolor": "#E5ECF6",
          "polar": {
           "angularaxis": {
            "gridcolor": "white",
            "linecolor": "white",
            "ticks": ""
           },
           "bgcolor": "#E5ECF6",
           "radialaxis": {
            "gridcolor": "white",
            "linecolor": "white",
            "ticks": ""
           }
          },
          "scene": {
           "xaxis": {
            "backgroundcolor": "#E5ECF6",
            "gridcolor": "white",
            "gridwidth": 2,
            "linecolor": "white",
            "showbackground": true,
            "ticks": "",
            "zerolinecolor": "white"
           },
           "yaxis": {
            "backgroundcolor": "#E5ECF6",
            "gridcolor": "white",
            "gridwidth": 2,
            "linecolor": "white",
            "showbackground": true,
            "ticks": "",
            "zerolinecolor": "white"
           },
           "zaxis": {
            "backgroundcolor": "#E5ECF6",
            "gridcolor": "white",
            "gridwidth": 2,
            "linecolor": "white",
            "showbackground": true,
            "ticks": "",
            "zerolinecolor": "white"
           }
          },
          "shapedefaults": {
           "line": {
            "color": "#2a3f5f"
           }
          },
          "ternary": {
           "aaxis": {
            "gridcolor": "white",
            "linecolor": "white",
            "ticks": ""
           },
           "baxis": {
            "gridcolor": "white",
            "linecolor": "white",
            "ticks": ""
           },
           "bgcolor": "#E5ECF6",
           "caxis": {
            "gridcolor": "white",
            "linecolor": "white",
            "ticks": ""
           }
          },
          "title": {
           "x": 0.05
          },
          "xaxis": {
           "automargin": true,
           "gridcolor": "white",
           "linecolor": "white",
           "ticks": "",
           "title": {
            "standoff": 15
           },
           "zerolinecolor": "white",
           "zerolinewidth": 2
          },
          "yaxis": {
           "automargin": true,
           "gridcolor": "white",
           "linecolor": "white",
           "ticks": "",
           "title": {
            "standoff": 15
           },
           "zerolinecolor": "white",
           "zerolinewidth": 2
          }
         }
        },
        "title": {
         "text": "Допустимо множество"
        }
       }
      }
     },
     "metadata": {},
     "output_type": "display_data"
    }
   ],
   "source": [
    "#| label: fig-feasible-3d\n",
    "#| fig-cap: Допустимо множество\n",
    "\n",
    "import plotly.graph_objects as go\n",
    "\n",
    "# Plot the feasible region in 3D\n",
    "# The feasible region is defined by the vertices of the polytope\n",
    "\n",
    "# Plot the constraint planes\n",
    "\n",
    "x1_values = np.linspace(-2, 10, 100)\n",
    "x2_values = np.linspace(-2, 10, 100)\n",
    "x1_grid, x2_grid = np.meshgrid(x1_values, x2_values)\n",
    "\n",
    "# for i in range(A.shape[0]):\n",
    "#     Z = (b[i] - A[i, 0] * x1_grid - A[i, 1] * x2_grid) / A[i, 2]  \n",
    "#     fig.add_trace(go.Surface(\n",
    "#         x=x1_grid,\n",
    "#         y=x2_grid,\n",
    "#         z=Z,\n",
    "#         opacity=0.2,\n",
    "#         name=f'Constraint {i+1}',\n",
    "#     ))\n",
    "\n",
    "# Mesh the vertices to create a 3D surface\n",
    "\n",
    "from scipy.spatial import ConvexHull\n",
    "hull = ConvexHull(vertices)\n",
    "\n",
    "fig = go.Figure()\n",
    "\n",
    "for simplex in hull.simplices:\n",
    "    fig.add_trace(go.Mesh3d(\n",
    "        x=vertices[simplex, 0],\n",
    "        y=vertices[simplex, 1],\n",
    "        z=vertices[simplex, 2],\n",
    "        color='lightblue',\n",
    "        opacity=0.7,\n",
    "    ))\n",
    "\n",
    "for m, i in enumerate(vertices):\n",
    "    # Plot the coordinates of the vertices and annotate the points\n",
    "    fig.add_trace(go.Scatter3d(\n",
    "        x=[i[0]],\n",
    "        y=[i[1]],\n",
    "        z=[i[2]],\n",
    "        name=f\"Връх {m}\",\n",
    "        mode='markers+text',\n",
    "        marker=dict(size=5, color='blue', opacity=1),\n",
    "        text=[f'({i[0]:.1f}, {i[1]:.1f}, {i[2]:.1f})'],\n",
    "        textposition=\"top center\",\n",
    "    ))\n",
    "\n",
    "fig.update_layout(\n",
    "    title='Допустимо множество',\n",
    "    scene=dict(\n",
    "        xaxis_title='x1 (светла бира)',\n",
    "        xaxis=dict(nticks=4, range=[-2, 20]),\n",
    "        yaxis=dict(nticks=4, range=[-2, 20]),\n",
    "        zaxis=dict(nticks=4, range=[-2, 20]),\n",
    "        yaxis_title='x2 (тъмна бира)',\n",
    "        zaxis_title='x3 (безалкохолна бира)',\n",
    "    )\n",
    ")\n",
    "\n",
    "fig.show()"
   ]
  },
  {
   "cell_type": "markdown",
   "metadata": {},
   "source": [
    "## Първа стъпка на симплекс алгоритъма\n",
    "\n",
    "Това, което симплекс алгоритъмът прави е да разглежда различни производствени планове и да прави оценка дали те са оптимални. Алгоритъмът поглежда първоначалния производствен план и преценява дали той е оптимален. Как го прави? Гледа съседни производствени планове и дали при тях печалбата е по-висока. Ако има такива, то настоящият план не е оптимален и алгоритъмът взема някой от съседните планове.\n",
    "\n",
    "В момента планът е $x_1 = 0, x_2 = 0, x_3 = 0, s_1 = 20, s_2=  0, s_3 = 0$. Идеята на симплекс таблицата (@tbl-simplex-3d-1) е да улесни представянето на задачата и изчисленията, необходими за стъпките на алгоритъма. "
   ]
  },
  {
   "cell_type": "markdown",
   "metadata": {},
   "source": [
    "| Iteration-0   |       | $C_j$   | 3     | 2     | 1     | 0     | 0     | 0     |       |\n",
    "|---------------|-------|-------------|-------|-------|-------|-------|-------|-------|-------|\n",
    "| B         | $C_B$ | $X_B$ | $x_1$ | $x_2$ | $x_3$ | $s_1$ | $s_2$ | $s_3$ | MinRatio |\n",
    "| $s_1$     | 0     | 20          | 1     | 2     | 1     | 1     | 0     | 0     | $\\frac{20}{1} = 20$ |\n",
    "| $s_2$     | 0     | 30          | 2     | 1     | 3     | 0     | 1     | 0     | $\\frac{30}{2} = 15$ |\n",
    "| $s_3$     | 0     | 25          | 1     | 1     | 1     | 0     | 0     | 1     | $\\frac{25}{1} = 25$ |\n",
    "| $Z = 0$ |       | $Z_j$   | 0     | 0     | 0     | 0     | 0     | 0     |       |\n",
    "|               |       | $Z_j - C_j$ | -3    | -2    | -1    | 0     | 0     | 0     |       |\n",
    "\n",
    ": Първоначален производствен план {#tbl-simplex-3d-1}\n",
    "\n",
    "| Итерация-1   |       | $C_j$   | 3     | 2     | 1     | 0     | 0     | 0     |       |\n",
    "|---------------|-------|-------------|-------|-------|-------|-------|-------|-------|-------|\n",
    "| B         | $C_B$ | $X_B$ | $x_1$ | $x_2$ | $x_3$ | $s_1$ | $s_2$ | $s_3$ | MinRatio |\n",
    "| $s_1$     | 0     | 5          | 0     | 1.5     | -0.5     | 1     | -0.5     | 0     | 3.333 |\n",
    "| $x_1$     | 3     | 15          | 1     | 0.5    | 1.5     | 0     | 0.5     | 0     | 30 |\n",
    "| $s_3$     | 0     | 10          | 0     | 0.5     | -0.5     | 0     | -0.5     | 1     | 20 |\n",
    "| $Z = 45$ |       | $Z_j$   | 3     | 1.5     | 4.5     | 0     | 1.5     | 0     |       |\n",
    "|               |       | $Z_j - C_j$ | -0.5    | 3.5    | 0    | 1.5     | 0     | 0     |       |\n",
    "\n",
    "| Итерация-2   |       | $C_j$   | 3     | 2     | 1     | 0     | 0     | 0     |       |\n",
    "|---------------|-------|-------------|-------|-------|-------|-------|-------|-------|-------|\n",
    "| B         | $C_B$ | $X_B$ | $x_1$ | $x_2$ | $x_3$ | $s_1$ | $s_2$ | $s_3$ | MinRatio |\n",
    "| $x_2$     | 2     | 3.3          | 0     | 1     | -0.33     | 0.66     | -0.33     | 0     | 3.333 |\n",
    "| $x_1$     | 3     | 13.3          | 1     | 0    | 1.66     | -0.33     | 0.66     | 0     | 30 |\n",
    "| $s_3$     | 0     | 8.3          | 0     | 0     | -0.33     | -0.33     | -0.33     | 1     | 20 |\n",
    "| $Z = 46.66$ |       | $Z_j$   | 3     | 2     | 4.33     | 0.33     | 1.33     | 0     |       |\n",
    "|               |       | $Z_j - C_j$ | 0    | 0    | 0    | 1.5     | 0     | 0     |       |\n",
    "\n",
    "\n"
   ]
  },
  {
   "cell_type": "markdown",
   "metadata": {},
   "source": [
    "\n",
    "| Итерация-0   |       | $C_j$   |     |     |     |     |     |     |       |\n",
    "|---------------|-------|-------------|-------|-------|-------|-------|-------|-------|-------|\n",
    "| B         | $C_B$ | $X_B$ | $x_1$ | $x_2$ | $x_3$ | $s_1$ | $s_2$ | $s_3$ | MinRatio |\n",
    "| $s_1$     |     |          |     |     |     |     |     |     |  |\n",
    "| $s_2$     |     |          |     |     |     |     |     |     |  |\n",
    "| $s_3$     |     |          |     |     |     |     |     |     |  |\n",
    "| $Z =$ |       | $Z_j$   |     |     |     |     |     |     |       |\n",
    "|               |       | $Z_j - C_j$ |     |     |     |     |     |     |       |\n",
    "\n",
    "\n",
    "Трансформация :\n",
    "\n",
    "- (2) <- (2) / 2\n",
    "- (1) <- (1) - (2) \n",
    "- (3) <- (3) - (2)\n",
    "\n",
    "| Итерация-1   |       | $C_j$   |     |     |     |     |     |     |       |\n",
    "|---------------|-------|-------------|-------|-------|-------|-------|-------|-------|-------|\n",
    "| B         | $C_B$ | $X_B$ | $x_1$ | $x_2$ | $x_3$ | $s_1$ | $s_2$ | $s_3$ | MinRatio |\n",
    "| $s_1$     |     |          |     |     |      |     |      |     | |\n",
    "| $x_1$     |     |          |     |    |     |     |     |     | |\n",
    "| $s_3$     |     |          |     |     |      |     |      |     | |\n",
    "| $Z =$ |       | $Z_j$   |     |     |     |     |     |     |       |\n",
    "|               |       | $Z_j - C_j$ |     |    |    |     |     |     |       |\n",
    "\n",
    "Трансформация :\n",
    "\n",
    "- (1) <- (1) / 1.5\n",
    "- (2) <- (2) - 0.5 (1) \n",
    "- (3) <- (3) - 0.5 (1)\n",
    "\n",
    "| Итерация-2   |       | $C_j$   |     |     |     |     |     |     |       |\n",
    "|---------------|-------|-------------|-------|-------|-------|-------|-------|-------|-------|\n",
    "| B         | $C_B$ | $X_B$ | $x_1$ | $x_2$ | $x_3$ | $s_1$ | $s_2$ | $s_3$ | MinRatio |\n",
    "| $x_2$     |     |          |     |     |      |     |      |     | |\n",
    "| $x_1$     |     |          |     |    |     |      |     |     | |\n",
    "| $s_3$     |     |          |     |     |      |      |      |     | |\n",
    "| $Z = $ |       | $Z_j$   |     |     |     |     |     |     |       |\n",
    "|               |       | $Z_j - C_j$ |    |    |    |     |     |     |       |\n",
    "\n"
   ]
  }
 ],
 "metadata": {
  "kernelspec": {
   "display_name": "Python 3",
   "language": "python",
   "name": "python3"
  },
  "language_info": {
   "codemirror_mode": {
    "name": "ipython",
    "version": 3
   },
   "file_extension": ".py",
   "mimetype": "text/x-python",
   "name": "python",
   "nbconvert_exporter": "python",
   "pygments_lexer": "ipython3",
   "version": "3.11.11"
  }
 },
 "nbformat": 4,
 "nbformat_minor": 2
}
