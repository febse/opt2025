{
 "cells": [
  {
   "cell_type": "code",
   "execution_count": 2,
   "id": "a68eae6f",
   "metadata": {},
   "outputs": [],
   "source": [
    "import gurobipy as gp\n",
    "from gurobipy import GRB\n",
    "import numpy as np\n",
    "import pandas as pd\n"
   ]
  },
  {
   "cell_type": "markdown",
   "id": "9630dc48",
   "metadata": {},
   "source": [
    "# Data Envelopment Analysis\n",
    "\n",
    "- @CHARNES1978MeasuringEfficiencyDecision\n",
    "- @RAMANATHAN2010IntroductionDataEnvelopment\n"
   ]
  },
  {
   "cell_type": "code",
   "execution_count": 15,
   "id": "064f7322",
   "metadata": {},
   "outputs": [
    {
     "data": {
      "application/vnd.microsoft.datawrangler.viewer.v0+json": {
       "columns": [
        {
         "name": "center",
         "rawType": "object",
         "type": "string"
        },
        {
         "name": "employees",
         "rawType": "int64",
         "type": "integer"
        },
        {
         "name": "managers",
         "rawType": "int64",
         "type": "integer"
        },
        {
         "name": "calls_all",
         "rawType": "int64",
         "type": "integer"
        },
        {
         "name": "calls_support",
         "rawType": "int64",
         "type": "integer"
        },
        {
         "name": "calls_sales",
         "rawType": "int64",
         "type": "integer"
        }
       ],
       "conversionMethod": "pd.DataFrame",
       "ref": "0c2e2d48-f37d-4263-b4e2-4d72c4c14e44",
       "rows": [
        [
         "Sofia",
         "15",
         "2",
         "1000",
         "300",
         "700"
        ],
        [
         "Varna",
         "20",
         "2",
         "2000",
         "100",
         "1900"
        ],
        [
         "Plovdiv",
         "25",
         "3",
         "500",
         "300",
         "200"
        ],
        [
         "Haskovo",
         "42",
         "1",
         "400",
         "300",
         "100"
        ],
        [
         "Tarnovo",
         "50",
         "5",
         "1500",
         "500",
         "1000"
        ],
        [
         "Burgas",
         "60",
         "2",
         "600",
         "60",
         "540"
        ]
       ],
       "shape": {
        "columns": 5,
        "rows": 6
       }
      },
      "text/html": [
       "<div>\n",
       "<style scoped>\n",
       "    .dataframe tbody tr th:only-of-type {\n",
       "        vertical-align: middle;\n",
       "    }\n",
       "\n",
       "    .dataframe tbody tr th {\n",
       "        vertical-align: top;\n",
       "    }\n",
       "\n",
       "    .dataframe thead th {\n",
       "        text-align: right;\n",
       "    }\n",
       "</style>\n",
       "<table border=\"1\" class=\"dataframe\">\n",
       "  <thead>\n",
       "    <tr style=\"text-align: right;\">\n",
       "      <th></th>\n",
       "      <th>employees</th>\n",
       "      <th>managers</th>\n",
       "      <th>calls_all</th>\n",
       "      <th>calls_support</th>\n",
       "      <th>calls_sales</th>\n",
       "    </tr>\n",
       "    <tr>\n",
       "      <th>center</th>\n",
       "      <th></th>\n",
       "      <th></th>\n",
       "      <th></th>\n",
       "      <th></th>\n",
       "      <th></th>\n",
       "    </tr>\n",
       "  </thead>\n",
       "  <tbody>\n",
       "    <tr>\n",
       "      <th>Sofia</th>\n",
       "      <td>15</td>\n",
       "      <td>2</td>\n",
       "      <td>1000</td>\n",
       "      <td>300</td>\n",
       "      <td>700</td>\n",
       "    </tr>\n",
       "    <tr>\n",
       "      <th>Varna</th>\n",
       "      <td>20</td>\n",
       "      <td>2</td>\n",
       "      <td>2000</td>\n",
       "      <td>100</td>\n",
       "      <td>1900</td>\n",
       "    </tr>\n",
       "    <tr>\n",
       "      <th>Plovdiv</th>\n",
       "      <td>25</td>\n",
       "      <td>3</td>\n",
       "      <td>500</td>\n",
       "      <td>300</td>\n",
       "      <td>200</td>\n",
       "    </tr>\n",
       "    <tr>\n",
       "      <th>Haskovo</th>\n",
       "      <td>42</td>\n",
       "      <td>1</td>\n",
       "      <td>400</td>\n",
       "      <td>300</td>\n",
       "      <td>100</td>\n",
       "    </tr>\n",
       "    <tr>\n",
       "      <th>Tarnovo</th>\n",
       "      <td>50</td>\n",
       "      <td>5</td>\n",
       "      <td>1500</td>\n",
       "      <td>500</td>\n",
       "      <td>1000</td>\n",
       "    </tr>\n",
       "    <tr>\n",
       "      <th>Burgas</th>\n",
       "      <td>60</td>\n",
       "      <td>2</td>\n",
       "      <td>600</td>\n",
       "      <td>60</td>\n",
       "      <td>540</td>\n",
       "    </tr>\n",
       "  </tbody>\n",
       "</table>\n",
       "</div>"
      ],
      "text/plain": [
       "         employees  managers  calls_all  calls_support  calls_sales\n",
       "center                                                             \n",
       "Sofia           15         2       1000            300          700\n",
       "Varna           20         2       2000            100         1900\n",
       "Plovdiv         25         3        500            300          200\n",
       "Haskovo         42         1        400            300          100\n",
       "Tarnovo         50         5       1500            500         1000\n",
       "Burgas          60         2        600             60          540"
      ]
     },
     "execution_count": 15,
     "metadata": {},
     "output_type": "execute_result"
    }
   ],
   "source": [
    "dt = pd.DataFrame({\n",
    "   \"center\": [\"Sofia\", \"Varna\", \"Plovdiv\", \"Haskovo\", \"Tarnovo\", \"Burgas\"],\n",
    "   \"employees\": [15, 20, 25, 42, 50, 60],\n",
    "   \"managers\": [2, 2, 3, 1, 5, 2],\n",
    "   \"calls_all\": [1000, 2000, 500, 400, 1500, 600],\n",
    "   \"calls_support\": [300, 100, 300, 300, 500, 60],\n",
    "}).set_index(\"center\")\n",
    "\n",
    "dt[\"calls_sales\"] = dt[\"calls_all\"] - dt[\"calls_support\"]\n",
    "dt"
   ]
  },
  {
   "cell_type": "code",
   "execution_count": 16,
   "id": "ee4056e4",
   "metadata": {},
   "outputs": [
    {
     "data": {
      "application/vnd.microsoft.datawrangler.viewer.v0+json": {
       "columns": [
        {
         "name": "center",
         "rawType": "object",
         "type": "string"
        },
        {
         "name": "calls_per_empl_norm",
         "rawType": "float64",
         "type": "float"
        },
        {
         "name": "calls_sales_per_empl_norm",
         "rawType": "float64",
         "type": "float"
        },
        {
         "name": "calls_support_per_empl_norm",
         "rawType": "float64",
         "type": "float"
        }
       ],
       "conversionMethod": "pd.DataFrame",
       "ref": "8010acd1-17f1-4b2d-9609-a23134234296",
       "rows": [
        [
         "Sofia",
         "66.66666666666667",
         "49.122807017543856",
         "100.0"
        ],
        [
         "Varna",
         "100.0",
         "100.0",
         "25.0"
        ],
        [
         "Plovdiv",
         "20.0",
         "8.421052631578947",
         "60.0"
        ],
        [
         "Haskovo",
         "9.523809523809524",
         "2.506265664160401",
         "35.714285714285715"
        ],
        [
         "Tarnovo",
         "30.0",
         "21.05263157894737",
         "50.0"
        ],
        [
         "Burgas",
         "10.0",
         "9.473684210526315",
         "5.0"
        ]
       ],
       "shape": {
        "columns": 3,
        "rows": 6
       }
      },
      "text/html": [
       "<div>\n",
       "<style scoped>\n",
       "    .dataframe tbody tr th:only-of-type {\n",
       "        vertical-align: middle;\n",
       "    }\n",
       "\n",
       "    .dataframe tbody tr th {\n",
       "        vertical-align: top;\n",
       "    }\n",
       "\n",
       "    .dataframe thead th {\n",
       "        text-align: right;\n",
       "    }\n",
       "</style>\n",
       "<table border=\"1\" class=\"dataframe\">\n",
       "  <thead>\n",
       "    <tr style=\"text-align: right;\">\n",
       "      <th></th>\n",
       "      <th>calls_per_empl_norm</th>\n",
       "      <th>calls_sales_per_empl_norm</th>\n",
       "      <th>calls_support_per_empl_norm</th>\n",
       "    </tr>\n",
       "    <tr>\n",
       "      <th>center</th>\n",
       "      <th></th>\n",
       "      <th></th>\n",
       "      <th></th>\n",
       "    </tr>\n",
       "  </thead>\n",
       "  <tbody>\n",
       "    <tr>\n",
       "      <th>Sofia</th>\n",
       "      <td>66.666667</td>\n",
       "      <td>49.122807</td>\n",
       "      <td>100.000000</td>\n",
       "    </tr>\n",
       "    <tr>\n",
       "      <th>Varna</th>\n",
       "      <td>100.000000</td>\n",
       "      <td>100.000000</td>\n",
       "      <td>25.000000</td>\n",
       "    </tr>\n",
       "    <tr>\n",
       "      <th>Plovdiv</th>\n",
       "      <td>20.000000</td>\n",
       "      <td>8.421053</td>\n",
       "      <td>60.000000</td>\n",
       "    </tr>\n",
       "    <tr>\n",
       "      <th>Haskovo</th>\n",
       "      <td>9.523810</td>\n",
       "      <td>2.506266</td>\n",
       "      <td>35.714286</td>\n",
       "    </tr>\n",
       "    <tr>\n",
       "      <th>Tarnovo</th>\n",
       "      <td>30.000000</td>\n",
       "      <td>21.052632</td>\n",
       "      <td>50.000000</td>\n",
       "    </tr>\n",
       "    <tr>\n",
       "      <th>Burgas</th>\n",
       "      <td>10.000000</td>\n",
       "      <td>9.473684</td>\n",
       "      <td>5.000000</td>\n",
       "    </tr>\n",
       "  </tbody>\n",
       "</table>\n",
       "</div>"
      ],
      "text/plain": [
       "         calls_per_empl_norm  calls_sales_per_empl_norm  \\\n",
       "center                                                    \n",
       "Sofia              66.666667                  49.122807   \n",
       "Varna             100.000000                 100.000000   \n",
       "Plovdiv            20.000000                   8.421053   \n",
       "Haskovo             9.523810                   2.506266   \n",
       "Tarnovo            30.000000                  21.052632   \n",
       "Burgas             10.000000                   9.473684   \n",
       "\n",
       "         calls_support_per_empl_norm  \n",
       "center                                \n",
       "Sofia                     100.000000  \n",
       "Varna                      25.000000  \n",
       "Plovdiv                    60.000000  \n",
       "Haskovo                    35.714286  \n",
       "Tarnovo                    50.000000  \n",
       "Burgas                      5.000000  "
      ]
     },
     "execution_count": 16,
     "metadata": {},
     "output_type": "execute_result"
    }
   ],
   "source": [
    "dt[\"calls_per_empl\"] = (dt[\"calls_all\"] / dt[\"employees\"])\n",
    "dt[\"calls_per_empl_norm\"] = 100 * dt[\"calls_per_empl\"] / dt[\"calls_per_empl\"].max()\n",
    "dt[\"calls_per_empl_norm\"].sort_values(ascending=False)\n",
    "\n",
    "dt[\"calls_sales_per_empl\"] = (dt[\"calls_sales\"] / dt[\"employees\"])\n",
    "dt[\"calls_sales_per_empl_norm\"] = 100 * dt[\"calls_sales_per_empl\"] / dt[\"calls_sales_per_empl\"].max()\n",
    "\n",
    "dt[\"calls_support_per_empl\"] = (dt[\"calls_support\"] / dt[\"employees\"])\n",
    "dt[\"calls_support_per_empl_norm\"] = 100 * dt[\"calls_support_per_empl\"] / dt[\"calls_support_per_empl\"].max()\n",
    "\n",
    "dt[[\"calls_per_empl_norm\", \"calls_sales_per_empl_norm\", \"calls_support_per_empl_norm\"]]"
   ]
  },
  {
   "cell_type": "code",
   "execution_count": 17,
   "id": "2d64a800",
   "metadata": {},
   "outputs": [
    {
     "data": {
      "text/plain": [
       "array([[46.66666667,  0.        ],\n",
       "       [95.        ,  0.        ],\n",
       "       [ 8.        ,  0.        ],\n",
       "       [ 2.38095238,  0.        ],\n",
       "       [20.        ,  0.        ],\n",
       "       [ 9.        ,  0.        ]])"
      ]
     },
     "execution_count": 17,
     "metadata": {},
     "output_type": "execute_result"
    }
   ],
   "source": [
    "dt[\"calls_sales_per_empl\"].values\n",
    "np.zeros(len(dt))\n",
    "np.stack([dt[\"calls_sales_per_empl\"].values, np.zeros(len(dt))], axis=1)\n"
   ]
  },
  {
   "cell_type": "code",
   "execution_count": 28,
   "id": "ff7db0a9",
   "metadata": {},
   "outputs": [
    {
     "data": {
      "text/plain": [
       "(0.0, 30.0)"
      ]
     },
     "execution_count": 28,
     "metadata": {},
     "output_type": "execute_result"
    },
    {
     "data": {
      "image/png": "[encoded data removed]",
      "text/plain": [
       "<Figure size 640x480 with 1 Axes>"
      ]
     },
     "metadata": {},
     "output_type": "display_data"
    }
   ],
   "source": [
    "from scipy.spatial import ConvexHull\n",
    "\n",
    "import numpy as np\n",
    "\n",
    "rng = np.random.default_rng()\n",
    "\n",
    "points = dt[[\"calls_sales_per_empl\", \"calls_support_per_empl\"]].values  # 30 random points in 2-D\n",
    "points1 = np.stack([dt[\"calls_sales_per_empl\"].values, np.zeros(len(dt))], axis=1)\n",
    "points2 = np.stack([np.zeros(len(dt)), dt[\"calls_support_per_empl\"].values], axis=1)\n",
    "points_all = np.concatenate([points, points1, points2, np.array([0, 0]).reshape(1, -1)], axis=0)\n",
    "\n",
    "hull = ConvexHull(points_all)\n",
    "\n",
    "import matplotlib.pyplot as plt\n",
    "\n",
    "plt.plot(points[:,0], points[:,1], 'o')\n",
    "for i, txt in enumerate(dt.index):\n",
    "    plt.annotate(txt, (points[i, 0], points[i, 1]), xytext=(-8, 10), textcoords='offset points', fontsize=8)\n",
    "\n",
    "for simplex in hull.simplices:\n",
    "    plt.plot(points_all[simplex, 0], points_all[simplex, 1], 'k-')\n",
    "\n",
    "for i in range(len(points_all)):\n",
    "    plt.plot([0, 100 * points_all[i, 0]], [0, 100 * points_all[i, 1]], '--', alpha=0.5)\n",
    "\n",
    "plt.xlim(0, 110)\n",
    "plt.ylim(0, 30)"
   ]
  }
 ],
 "metadata": {
  "kernelspec": {
   "display_name": "Python 3",
   "language": "python",
   "name": "python3"
  },
  "language_info": {
   "codemirror_mode": {
    "name": "ipython",
    "version": 3
   },
   "file_extension": ".py",
   "mimetype": "text/x-python",
   "name": "python",
   "nbconvert_exporter": "python",
   "pygments_lexer": "ipython3",
   "version": "3.11.11"
  }
 },
 "nbformat": 4,
 "nbformat_minor": 5
}
